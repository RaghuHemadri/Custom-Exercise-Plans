{
 "cells": [
  {
   "cell_type": "code",
   "execution_count": 1,
   "id": "cb6296a4",
   "metadata": {
    "_cell_guid": "b1076dfc-b9ad-4769-8c92-a6c4dae69d19",
    "_kg_hide-input": true,
    "_kg_hide-output": true,
    "_uuid": "8f2839f25d086af736a60e9eeb907d3b93b6e0e5",
    "execution": {
     "iopub.execute_input": "2023-02-04T10:12:53.540404Z",
     "iopub.status.busy": "2023-02-04T10:12:53.539935Z",
     "iopub.status.idle": "2023-02-04T10:12:54.943860Z",
     "shell.execute_reply": "2023-02-04T10:12:54.942714Z"
    },
    "papermill": {
     "duration": 1.421668,
     "end_time": "2023-02-04T10:12:54.947057",
     "exception": false,
     "start_time": "2023-02-04T10:12:53.525389",
     "status": "completed"
    },
    "tags": []
   },
   "outputs": [
    {
     "name": "stdout",
     "output_type": "stream",
     "text": [
      "/kaggle/input/gym-exercise-data/megaGymDataset.csv\n"
     ]
    }
   ],
   "source": [
    "# This Python 3 environment comes with many helpful analytics libraries installed\n",
    "# It is defined by the kaggle/python Docker image: https://github.com/kaggle/docker-python\n",
    "# For example, here's several helpful packages to load\n",
    "\n",
    "import numpy as np # linear algebra\n",
    "import pandas as pd # data processing, CSV file I/O (e.g. pd.read_csv)\n",
    "import plotly.express as px\n",
    "# Input data files are available in the read-only \"../input/\" directory\n",
    "# For example, running this (by clicking run or pressing Shift+Enter) will list all files under the input directory\n",
    "\n",
    "import os\n",
    "for dirname, _, filenames in os.walk('/kaggle/input'):\n",
    "    for filename in filenames:\n",
    "        print(os.path.join(dirname, filename))\n",
    "\n",
    "# You can write up to 20GB to the current directory (/kaggle/working/) that gets preserved as output when you create a version using \"Save & Run All\" \n",
    "# You can also write temporary files to /kaggle/temp/, but they won't be saved outside of the current session"
   ]
  },
  {
   "cell_type": "markdown",
   "id": "6cf92c4e",
   "metadata": {
    "papermill": {
     "duration": 0.01083,
     "end_time": "2023-02-04T10:12:54.969524",
     "exception": false,
     "start_time": "2023-02-04T10:12:54.958694",
     "status": "completed"
    },
    "tags": []
   },
   "source": [
    "# Introduction\n",
    "\n",
    "Gym exercises play a crucial role in helping people achieve their fitness goals and maintain good health. With a wide variety of exercises available, it can be challenging for gym-goers to choose the right routine for their needs. In this project, we aim to analyze gym exercise data to gain a deeper understanding of the most popular exercises and how they are being performed.\n",
    "\n",
    "We will be using a dataset that contains information on different gym exercises, such as the type of exercise, equipment used, and the level of fitness a person needs to perform these exercises. Our goal is to identify patterns and trends in the data, such as the most popular exercises and the factors that influence exercise performance. By analyzing this data, we hope to provide valuable insights for gym owners and managers, as well as gym-goers, to help them make informed decisions about their exercise routines.\n",
    "\n",
    "This notebook is an exploratory data analysis between different gym exercise, body parts worked, equipment required to perform these exercises and much more. \n",
    "It is an analysis solely created because of my curiosity but I hope that the results   deduced from the notebook are valuable.\n",
    "\n",
    "\n",
    "![Gym Image](https://images.unsplash.com/photo-1558611848-73f7eb4001a1?ixlib=rb-4.0.3&ixid=MnwxMjA3fDB8MHxwaG90by1wYWdlfHx8fGVufDB8fHx8&auto=format&fit=crop&w=2071&q=80)"
   ]
  },
  {
   "cell_type": "code",
   "execution_count": 2,
   "id": "835d8775",
   "metadata": {
    "execution": {
     "iopub.execute_input": "2023-02-04T10:12:54.995654Z",
     "iopub.status.busy": "2023-02-04T10:12:54.995289Z",
     "iopub.status.idle": "2023-02-04T10:12:55.068683Z",
     "shell.execute_reply": "2023-02-04T10:12:55.067879Z"
    },
    "papermill": {
     "duration": 0.08999,
     "end_time": "2023-02-04T10:12:55.070791",
     "exception": false,
     "start_time": "2023-02-04T10:12:54.980801",
     "status": "completed"
    },
    "tags": []
   },
   "outputs": [
    {
     "data": {
      "text/html": [
       "<div>\n",
       "<style scoped>\n",
       "    .dataframe tbody tr th:only-of-type {\n",
       "        vertical-align: middle;\n",
       "    }\n",
       "\n",
       "    .dataframe tbody tr th {\n",
       "        vertical-align: top;\n",
       "    }\n",
       "\n",
       "    .dataframe thead th {\n",
       "        text-align: right;\n",
       "    }\n",
       "</style>\n",
       "<table border=\"1\" class=\"dataframe\">\n",
       "  <thead>\n",
       "    <tr style=\"text-align: right;\">\n",
       "      <th></th>\n",
       "      <th>index</th>\n",
       "      <th>Title</th>\n",
       "      <th>Desc</th>\n",
       "      <th>Type</th>\n",
       "      <th>BodyPart</th>\n",
       "      <th>Equipment</th>\n",
       "      <th>Level</th>\n",
       "      <th>Rating</th>\n",
       "      <th>RatingDesc</th>\n",
       "    </tr>\n",
       "  </thead>\n",
       "  <tbody>\n",
       "    <tr>\n",
       "      <th>0</th>\n",
       "      <td>0</td>\n",
       "      <td>Partner plank band row</td>\n",
       "      <td>The partner plank band row is an abdominal exe...</td>\n",
       "      <td>Strength</td>\n",
       "      <td>Abdominals</td>\n",
       "      <td>Bands</td>\n",
       "      <td>Intermediate</td>\n",
       "      <td>0.0</td>\n",
       "      <td>NaN</td>\n",
       "    </tr>\n",
       "    <tr>\n",
       "      <th>1</th>\n",
       "      <td>1</td>\n",
       "      <td>Banded crunch isometric hold</td>\n",
       "      <td>The banded crunch isometric hold is an exercis...</td>\n",
       "      <td>Strength</td>\n",
       "      <td>Abdominals</td>\n",
       "      <td>Bands</td>\n",
       "      <td>Intermediate</td>\n",
       "      <td>NaN</td>\n",
       "      <td>NaN</td>\n",
       "    </tr>\n",
       "    <tr>\n",
       "      <th>2</th>\n",
       "      <td>2</td>\n",
       "      <td>FYR Banded Plank Jack</td>\n",
       "      <td>The banded plank jack is a variation on the pl...</td>\n",
       "      <td>Strength</td>\n",
       "      <td>Abdominals</td>\n",
       "      <td>Bands</td>\n",
       "      <td>Intermediate</td>\n",
       "      <td>NaN</td>\n",
       "      <td>NaN</td>\n",
       "    </tr>\n",
       "    <tr>\n",
       "      <th>3</th>\n",
       "      <td>3</td>\n",
       "      <td>Banded crunch</td>\n",
       "      <td>The banded crunch is an exercise targeting the...</td>\n",
       "      <td>Strength</td>\n",
       "      <td>Abdominals</td>\n",
       "      <td>Bands</td>\n",
       "      <td>Intermediate</td>\n",
       "      <td>NaN</td>\n",
       "      <td>NaN</td>\n",
       "    </tr>\n",
       "    <tr>\n",
       "      <th>4</th>\n",
       "      <td>4</td>\n",
       "      <td>Crunch</td>\n",
       "      <td>The crunch is a popular core exercise targetin...</td>\n",
       "      <td>Strength</td>\n",
       "      <td>Abdominals</td>\n",
       "      <td>Bands</td>\n",
       "      <td>Intermediate</td>\n",
       "      <td>NaN</td>\n",
       "      <td>NaN</td>\n",
       "    </tr>\n",
       "    <tr>\n",
       "      <th>...</th>\n",
       "      <td>...</td>\n",
       "      <td>...</td>\n",
       "      <td>...</td>\n",
       "      <td>...</td>\n",
       "      <td>...</td>\n",
       "      <td>...</td>\n",
       "      <td>...</td>\n",
       "      <td>...</td>\n",
       "      <td>...</td>\n",
       "    </tr>\n",
       "    <tr>\n",
       "      <th>2913</th>\n",
       "      <td>2913</td>\n",
       "      <td>EZ-bar skullcrusher-</td>\n",
       "      <td>The EZ-bar skullcrusher is a popular exercise ...</td>\n",
       "      <td>Strength</td>\n",
       "      <td>Triceps</td>\n",
       "      <td>E-Z Curl Bar</td>\n",
       "      <td>Intermediate</td>\n",
       "      <td>8.1</td>\n",
       "      <td>Average</td>\n",
       "    </tr>\n",
       "    <tr>\n",
       "      <th>2914</th>\n",
       "      <td>2914</td>\n",
       "      <td>Lying Close-Grip Barbell Triceps Press To Chin</td>\n",
       "      <td>NaN</td>\n",
       "      <td>Strength</td>\n",
       "      <td>Triceps</td>\n",
       "      <td>E-Z Curl Bar</td>\n",
       "      <td>Beginner</td>\n",
       "      <td>8.1</td>\n",
       "      <td>Average</td>\n",
       "    </tr>\n",
       "    <tr>\n",
       "      <th>2915</th>\n",
       "      <td>2915</td>\n",
       "      <td>EZ-Bar Skullcrusher - Gethin Variation</td>\n",
       "      <td>The EZ-bar skullcrusher is a popular exercise ...</td>\n",
       "      <td>Strength</td>\n",
       "      <td>Triceps</td>\n",
       "      <td>E-Z Curl Bar</td>\n",
       "      <td>Intermediate</td>\n",
       "      <td>NaN</td>\n",
       "      <td>NaN</td>\n",
       "    </tr>\n",
       "    <tr>\n",
       "      <th>2916</th>\n",
       "      <td>2916</td>\n",
       "      <td>TBS Skullcrusher</td>\n",
       "      <td>The EZ-bar skullcrusher is a popular exercise ...</td>\n",
       "      <td>Strength</td>\n",
       "      <td>Triceps</td>\n",
       "      <td>E-Z Curl Bar</td>\n",
       "      <td>Intermediate</td>\n",
       "      <td>NaN</td>\n",
       "      <td>NaN</td>\n",
       "    </tr>\n",
       "    <tr>\n",
       "      <th>2917</th>\n",
       "      <td>2917</td>\n",
       "      <td>30 Arms EZ-Bar Skullcrusher</td>\n",
       "      <td>NaN</td>\n",
       "      <td>Strength</td>\n",
       "      <td>Triceps</td>\n",
       "      <td>E-Z Curl Bar</td>\n",
       "      <td>Intermediate</td>\n",
       "      <td>NaN</td>\n",
       "      <td>NaN</td>\n",
       "    </tr>\n",
       "  </tbody>\n",
       "</table>\n",
       "<p>2918 rows × 9 columns</p>\n",
       "</div>"
      ],
      "text/plain": [
       "      index                                           Title  \\\n",
       "0         0                          Partner plank band row   \n",
       "1         1                    Banded crunch isometric hold   \n",
       "2         2                           FYR Banded Plank Jack   \n",
       "3         3                                   Banded crunch   \n",
       "4         4                                          Crunch   \n",
       "...     ...                                             ...   \n",
       "2913   2913                            EZ-bar skullcrusher-   \n",
       "2914   2914  Lying Close-Grip Barbell Triceps Press To Chin   \n",
       "2915   2915          EZ-Bar Skullcrusher - Gethin Variation   \n",
       "2916   2916                                TBS Skullcrusher   \n",
       "2917   2917                     30 Arms EZ-Bar Skullcrusher   \n",
       "\n",
       "                                                   Desc      Type    BodyPart  \\\n",
       "0     The partner plank band row is an abdominal exe...  Strength  Abdominals   \n",
       "1     The banded crunch isometric hold is an exercis...  Strength  Abdominals   \n",
       "2     The banded plank jack is a variation on the pl...  Strength  Abdominals   \n",
       "3     The banded crunch is an exercise targeting the...  Strength  Abdominals   \n",
       "4     The crunch is a popular core exercise targetin...  Strength  Abdominals   \n",
       "...                                                 ...       ...         ...   \n",
       "2913  The EZ-bar skullcrusher is a popular exercise ...  Strength     Triceps   \n",
       "2914                                                NaN  Strength     Triceps   \n",
       "2915  The EZ-bar skullcrusher is a popular exercise ...  Strength     Triceps   \n",
       "2916  The EZ-bar skullcrusher is a popular exercise ...  Strength     Triceps   \n",
       "2917                                                NaN  Strength     Triceps   \n",
       "\n",
       "         Equipment         Level  Rating RatingDesc  \n",
       "0            Bands  Intermediate     0.0        NaN  \n",
       "1            Bands  Intermediate     NaN        NaN  \n",
       "2            Bands  Intermediate     NaN        NaN  \n",
       "3            Bands  Intermediate     NaN        NaN  \n",
       "4            Bands  Intermediate     NaN        NaN  \n",
       "...            ...           ...     ...        ...  \n",
       "2913  E-Z Curl Bar  Intermediate     8.1    Average  \n",
       "2914  E-Z Curl Bar      Beginner     8.1    Average  \n",
       "2915  E-Z Curl Bar  Intermediate     NaN        NaN  \n",
       "2916  E-Z Curl Bar  Intermediate     NaN        NaN  \n",
       "2917  E-Z Curl Bar  Intermediate     NaN        NaN  \n",
       "\n",
       "[2918 rows x 9 columns]"
      ]
     },
     "execution_count": 2,
     "metadata": {},
     "output_type": "execute_result"
    }
   ],
   "source": [
    "gym_data = pd.read_csv('/kaggle/input/gym-exercise-data/megaGymDataset.csv')\n",
    "gym_data.columns = gym_data.columns.str.replace('Unnamed: 0', 'index')\n",
    "gym_data\n"
   ]
  },
  {
   "cell_type": "markdown",
   "id": "f9a8960c",
   "metadata": {
    "papermill": {
     "duration": 0.012051,
     "end_time": "2023-02-04T10:12:55.094636",
     "exception": false,
     "start_time": "2023-02-04T10:12:55.082585",
     "status": "completed"
    },
    "tags": []
   },
   "source": [
    "**Data Cleaning**\n",
    "\n",
    "Data cleaning is the first step to any data analysis project. The missing values need to be evaluated and replaced if necessary."
   ]
  },
  {
   "cell_type": "code",
   "execution_count": 3,
   "id": "539902b7",
   "metadata": {
    "execution": {
     "iopub.execute_input": "2023-02-04T10:12:55.120582Z",
     "iopub.status.busy": "2023-02-04T10:12:55.119933Z",
     "iopub.status.idle": "2023-02-04T10:12:55.129596Z",
     "shell.execute_reply": "2023-02-04T10:12:55.128739Z"
    },
    "papermill": {
     "duration": 0.025441,
     "end_time": "2023-02-04T10:12:55.131918",
     "exception": false,
     "start_time": "2023-02-04T10:12:55.106477",
     "status": "completed"
    },
    "tags": []
   },
   "outputs": [
    {
     "data": {
      "text/plain": [
       "index            0\n",
       "Title            0\n",
       "Desc          1550\n",
       "Type             0\n",
       "BodyPart         0\n",
       "Equipment        0\n",
       "Level            0\n",
       "Rating        1887\n",
       "RatingDesc    2056\n",
       "dtype: int64"
      ]
     },
     "execution_count": 3,
     "metadata": {},
     "output_type": "execute_result"
    }
   ],
   "source": [
    "missing_values_count = gym_data.isnull().sum()\n",
    "missing_values_count"
   ]
  },
  {
   "cell_type": "markdown",
   "id": "8d7b6644",
   "metadata": {
    "papermill": {
     "duration": 0.015599,
     "end_time": "2023-02-04T10:12:55.160181",
     "exception": false,
     "start_time": "2023-02-04T10:12:55.144582",
     "status": "completed"
    },
    "tags": []
   },
   "source": [
    "Looks like the data does not need to be altered as the only columns having data missing is the description and rating/rating description."
   ]
  },
  {
   "cell_type": "code",
   "execution_count": 4,
   "id": "a013927e",
   "metadata": {
    "execution": {
     "iopub.execute_input": "2023-02-04T10:12:55.194263Z",
     "iopub.status.busy": "2023-02-04T10:12:55.193650Z",
     "iopub.status.idle": "2023-02-04T10:12:55.202130Z",
     "shell.execute_reply": "2023-02-04T10:12:55.199948Z"
    },
    "papermill": {
     "duration": 0.027844,
     "end_time": "2023-02-04T10:12:55.205068",
     "exception": false,
     "start_time": "2023-02-04T10:12:55.177224",
     "status": "completed"
    },
    "tags": []
   },
   "outputs": [
    {
     "data": {
      "text/plain": [
       "index           int64\n",
       "Title          object\n",
       "Desc           object\n",
       "Type           object\n",
       "BodyPart       object\n",
       "Equipment      object\n",
       "Level          object\n",
       "Rating        float64\n",
       "RatingDesc     object\n",
       "dtype: object"
      ]
     },
     "execution_count": 4,
     "metadata": {},
     "output_type": "execute_result"
    }
   ],
   "source": [
    "#quick check for data types\n",
    "\n",
    "gym_data.dtypes"
   ]
  },
  {
   "cell_type": "markdown",
   "id": "5fb2e706",
   "metadata": {
    "papermill": {
     "duration": 0.012126,
     "end_time": "2023-02-04T10:12:55.234483",
     "exception": false,
     "start_time": "2023-02-04T10:12:55.222357",
     "status": "completed"
    },
    "tags": []
   },
   "source": [
    "Quick counts for the data"
   ]
  },
  {
   "cell_type": "code",
   "execution_count": 5,
   "id": "8793453a",
   "metadata": {
    "execution": {
     "iopub.execute_input": "2023-02-04T10:12:55.260854Z",
     "iopub.status.busy": "2023-02-04T10:12:55.260140Z",
     "iopub.status.idle": "2023-02-04T10:12:55.265837Z",
     "shell.execute_reply": "2023-02-04T10:12:55.264831Z"
    },
    "papermill": {
     "duration": 0.021925,
     "end_time": "2023-02-04T10:12:55.268386",
     "exception": false,
     "start_time": "2023-02-04T10:12:55.246461",
     "status": "completed"
    },
    "tags": []
   },
   "outputs": [
    {
     "name": "stdout",
     "output_type": "stream",
     "text": [
      "Row count:\t2918\n",
      "Col count:\t9\n"
     ]
    }
   ],
   "source": [
    "print(\"Row count:\\t\" + str(gym_data.shape[0]))\n",
    "print(\"Col count:\\t\" + str(gym_data.shape[1]))"
   ]
  },
  {
   "cell_type": "markdown",
   "id": "5146ed13",
   "metadata": {
    "papermill": {
     "duration": 0.011737,
     "end_time": "2023-02-04T10:12:55.293649",
     "exception": false,
     "start_time": "2023-02-04T10:12:55.281912",
     "status": "completed"
    },
    "tags": []
   },
   "source": [
    "# Data Visualization and Analysis"
   ]
  },
  {
   "cell_type": "markdown",
   "id": "2972e629",
   "metadata": {
    "papermill": {
     "duration": 0.011878,
     "end_time": "2023-02-04T10:12:55.317740",
     "exception": false,
     "start_time": "2023-02-04T10:12:55.305862",
     "status": "completed"
    },
    "tags": []
   },
   "source": [
    "Lets start with determining the muscle group that has the most amount of exercises available."
   ]
  },
  {
   "cell_type": "code",
   "execution_count": 6,
   "id": "eaed9970",
   "metadata": {
    "execution": {
     "iopub.execute_input": "2023-02-04T10:12:55.344451Z",
     "iopub.status.busy": "2023-02-04T10:12:55.343676Z",
     "iopub.status.idle": "2023-02-04T10:12:55.369286Z",
     "shell.execute_reply": "2023-02-04T10:12:55.368087Z"
    },
    "papermill": {
     "duration": 0.041556,
     "end_time": "2023-02-04T10:12:55.371699",
     "exception": false,
     "start_time": "2023-02-04T10:12:55.330143",
     "status": "completed"
    },
    "tags": []
   },
   "outputs": [
    {
     "data": {
      "text/html": [
       "<div>\n",
       "<style scoped>\n",
       "    .dataframe tbody tr th:only-of-type {\n",
       "        vertical-align: middle;\n",
       "    }\n",
       "\n",
       "    .dataframe tbody tr th {\n",
       "        vertical-align: top;\n",
       "    }\n",
       "\n",
       "    .dataframe thead th {\n",
       "        text-align: right;\n",
       "    }\n",
       "</style>\n",
       "<table border=\"1\" class=\"dataframe\">\n",
       "  <thead>\n",
       "    <tr style=\"text-align: right;\">\n",
       "      <th></th>\n",
       "      <th>index</th>\n",
       "      <th>Title</th>\n",
       "      <th>Desc</th>\n",
       "      <th>Type</th>\n",
       "      <th>Equipment</th>\n",
       "      <th>Level</th>\n",
       "      <th>Rating</th>\n",
       "      <th>RatingDesc</th>\n",
       "    </tr>\n",
       "    <tr>\n",
       "      <th>BodyPart</th>\n",
       "      <th></th>\n",
       "      <th></th>\n",
       "      <th></th>\n",
       "      <th></th>\n",
       "      <th></th>\n",
       "      <th></th>\n",
       "      <th></th>\n",
       "      <th></th>\n",
       "    </tr>\n",
       "  </thead>\n",
       "  <tbody>\n",
       "    <tr>\n",
       "      <th>Abdominals</th>\n",
       "      <td>662</td>\n",
       "      <td>662</td>\n",
       "      <td>298</td>\n",
       "      <td>662</td>\n",
       "      <td>662</td>\n",
       "      <td>662</td>\n",
       "      <td>112</td>\n",
       "      <td>94</td>\n",
       "    </tr>\n",
       "    <tr>\n",
       "      <th>Abductors</th>\n",
       "      <td>21</td>\n",
       "      <td>21</td>\n",
       "      <td>8</td>\n",
       "      <td>21</td>\n",
       "      <td>21</td>\n",
       "      <td>21</td>\n",
       "      <td>10</td>\n",
       "      <td>9</td>\n",
       "    </tr>\n",
       "    <tr>\n",
       "      <th>Adductors</th>\n",
       "      <td>17</td>\n",
       "      <td>17</td>\n",
       "      <td>7</td>\n",
       "      <td>17</td>\n",
       "      <td>17</td>\n",
       "      <td>17</td>\n",
       "      <td>13</td>\n",
       "      <td>10</td>\n",
       "    </tr>\n",
       "    <tr>\n",
       "      <th>Biceps</th>\n",
       "      <td>168</td>\n",
       "      <td>168</td>\n",
       "      <td>101</td>\n",
       "      <td>168</td>\n",
       "      <td>168</td>\n",
       "      <td>168</td>\n",
       "      <td>55</td>\n",
       "      <td>53</td>\n",
       "    </tr>\n",
       "    <tr>\n",
       "      <th>Calves</th>\n",
       "      <td>47</td>\n",
       "      <td>47</td>\n",
       "      <td>26</td>\n",
       "      <td>47</td>\n",
       "      <td>47</td>\n",
       "      <td>47</td>\n",
       "      <td>26</td>\n",
       "      <td>26</td>\n",
       "    </tr>\n",
       "    <tr>\n",
       "      <th>Chest</th>\n",
       "      <td>262</td>\n",
       "      <td>262</td>\n",
       "      <td>149</td>\n",
       "      <td>262</td>\n",
       "      <td>262</td>\n",
       "      <td>262</td>\n",
       "      <td>113</td>\n",
       "      <td>90</td>\n",
       "    </tr>\n",
       "    <tr>\n",
       "      <th>Forearms</th>\n",
       "      <td>31</td>\n",
       "      <td>31</td>\n",
       "      <td>16</td>\n",
       "      <td>31</td>\n",
       "      <td>31</td>\n",
       "      <td>31</td>\n",
       "      <td>24</td>\n",
       "      <td>23</td>\n",
       "    </tr>\n",
       "    <tr>\n",
       "      <th>Glutes</th>\n",
       "      <td>81</td>\n",
       "      <td>81</td>\n",
       "      <td>29</td>\n",
       "      <td>81</td>\n",
       "      <td>81</td>\n",
       "      <td>81</td>\n",
       "      <td>25</td>\n",
       "      <td>22</td>\n",
       "    </tr>\n",
       "    <tr>\n",
       "      <th>Hamstrings</th>\n",
       "      <td>121</td>\n",
       "      <td>121</td>\n",
       "      <td>50</td>\n",
       "      <td>121</td>\n",
       "      <td>121</td>\n",
       "      <td>121</td>\n",
       "      <td>85</td>\n",
       "      <td>71</td>\n",
       "    </tr>\n",
       "    <tr>\n",
       "      <th>Lats</th>\n",
       "      <td>124</td>\n",
       "      <td>124</td>\n",
       "      <td>69</td>\n",
       "      <td>124</td>\n",
       "      <td>124</td>\n",
       "      <td>124</td>\n",
       "      <td>45</td>\n",
       "      <td>41</td>\n",
       "    </tr>\n",
       "    <tr>\n",
       "      <th>Lower Back</th>\n",
       "      <td>97</td>\n",
       "      <td>97</td>\n",
       "      <td>42</td>\n",
       "      <td>97</td>\n",
       "      <td>97</td>\n",
       "      <td>97</td>\n",
       "      <td>30</td>\n",
       "      <td>27</td>\n",
       "    </tr>\n",
       "    <tr>\n",
       "      <th>Middle Back</th>\n",
       "      <td>118</td>\n",
       "      <td>118</td>\n",
       "      <td>49</td>\n",
       "      <td>118</td>\n",
       "      <td>118</td>\n",
       "      <td>118</td>\n",
       "      <td>44</td>\n",
       "      <td>40</td>\n",
       "    </tr>\n",
       "    <tr>\n",
       "      <th>Neck</th>\n",
       "      <td>8</td>\n",
       "      <td>8</td>\n",
       "      <td>0</td>\n",
       "      <td>8</td>\n",
       "      <td>8</td>\n",
       "      <td>8</td>\n",
       "      <td>8</td>\n",
       "      <td>8</td>\n",
       "    </tr>\n",
       "    <tr>\n",
       "      <th>Quadriceps</th>\n",
       "      <td>646</td>\n",
       "      <td>646</td>\n",
       "      <td>245</td>\n",
       "      <td>646</td>\n",
       "      <td>646</td>\n",
       "      <td>646</td>\n",
       "      <td>218</td>\n",
       "      <td>155</td>\n",
       "    </tr>\n",
       "    <tr>\n",
       "      <th>Shoulders</th>\n",
       "      <td>340</td>\n",
       "      <td>340</td>\n",
       "      <td>174</td>\n",
       "      <td>340</td>\n",
       "      <td>340</td>\n",
       "      <td>340</td>\n",
       "      <td>141</td>\n",
       "      <td>118</td>\n",
       "    </tr>\n",
       "    <tr>\n",
       "      <th>Traps</th>\n",
       "      <td>24</td>\n",
       "      <td>24</td>\n",
       "      <td>17</td>\n",
       "      <td>24</td>\n",
       "      <td>24</td>\n",
       "      <td>24</td>\n",
       "      <td>16</td>\n",
       "      <td>16</td>\n",
       "    </tr>\n",
       "    <tr>\n",
       "      <th>Triceps</th>\n",
       "      <td>151</td>\n",
       "      <td>151</td>\n",
       "      <td>88</td>\n",
       "      <td>151</td>\n",
       "      <td>151</td>\n",
       "      <td>151</td>\n",
       "      <td>66</td>\n",
       "      <td>59</td>\n",
       "    </tr>\n",
       "  </tbody>\n",
       "</table>\n",
       "</div>"
      ],
      "text/plain": [
       "             index  Title  Desc  Type  Equipment  Level  Rating  RatingDesc\n",
       "BodyPart                                                                   \n",
       "Abdominals     662    662   298   662        662    662     112          94\n",
       "Abductors       21     21     8    21         21     21      10           9\n",
       "Adductors       17     17     7    17         17     17      13          10\n",
       "Biceps         168    168   101   168        168    168      55          53\n",
       "Calves          47     47    26    47         47     47      26          26\n",
       "Chest          262    262   149   262        262    262     113          90\n",
       "Forearms        31     31    16    31         31     31      24          23\n",
       "Glutes          81     81    29    81         81     81      25          22\n",
       "Hamstrings     121    121    50   121        121    121      85          71\n",
       "Lats           124    124    69   124        124    124      45          41\n",
       "Lower Back      97     97    42    97         97     97      30          27\n",
       "Middle Back    118    118    49   118        118    118      44          40\n",
       "Neck             8      8     0     8          8      8       8           8\n",
       "Quadriceps     646    646   245   646        646    646     218         155\n",
       "Shoulders      340    340   174   340        340    340     141         118\n",
       "Traps           24     24    17    24         24     24      16          16\n",
       "Triceps        151    151    88   151        151    151      66          59"
      ]
     },
     "execution_count": 6,
     "metadata": {},
     "output_type": "execute_result"
    }
   ],
   "source": [
    "count_exercises = gym_data.groupby(['BodyPart']).count()\n",
    "count_exercises"
   ]
  },
  {
   "cell_type": "code",
   "execution_count": 7,
   "id": "d69e94af",
   "metadata": {
    "execution": {
     "iopub.execute_input": "2023-02-04T10:12:55.399675Z",
     "iopub.status.busy": "2023-02-04T10:12:55.398980Z",
     "iopub.status.idle": "2023-02-04T10:12:56.372908Z",
     "shell.execute_reply": "2023-02-04T10:12:56.371571Z"
    },
    "papermill": {
     "duration": 0.990357,
     "end_time": "2023-02-04T10:12:56.375594",
     "exception": false,
     "start_time": "2023-02-04T10:12:55.385237",
     "status": "completed"
    },
    "tags": []
   },
   "outputs": [
    {
     "data": {
      "text/html": [
       "        <script type=\"text/javascript\">\n",
       "        window.PlotlyConfig = {MathJaxConfig: 'local'};\n",
       "        if (window.MathJax && window.MathJax.Hub && window.MathJax.Hub.Config) {window.MathJax.Hub.Config({SVG: {font: \"STIX-Web\"}});}\n",
       "        if (typeof require !== 'undefined') {\n",
       "        require.undef(\"plotly\");\n",
       "        requirejs.config({\n",
       "            paths: {\n",
       "                'plotly': ['https://cdn.plot.ly/plotly-2.18.0.min']\n",
       "            }\n",
       "        });\n",
       "        require(['plotly'], function(Plotly) {\n",
       "            window._Plotly = Plotly;\n",
       "        });\n",
       "        }\n",
       "        </script>\n",
       "        "
      ]
     },
     "metadata": {},
     "output_type": "display_data"
    },
    {
     "data": {
      "text/html": [
       "<div>                            <div id=\"4327febc-f7c7-4cd2-adcf-fe0bd68cbd9c\" class=\"plotly-graph-div\" style=\"height:525px; width:100%;\"></div>            <script type=\"text/javascript\">                require([\"plotly\"], function(Plotly) {                    window.PLOTLYENV=window.PLOTLYENV || {};                                    if (document.getElementById(\"4327febc-f7c7-4cd2-adcf-fe0bd68cbd9c\")) {                    Plotly.newPlot(                        \"4327febc-f7c7-4cd2-adcf-fe0bd68cbd9c\",                        [{\"alignmentgroup\":\"True\",\"hovertemplate\":\"BodyPart=%{x}<br>index=%{y}<extra></extra>\",\"legendgroup\":\"\",\"marker\":{\"color\":\"#636efa\",\"pattern\":{\"shape\":\"\"}},\"name\":\"\",\"offsetgroup\":\"\",\"orientation\":\"v\",\"showlegend\":false,\"textposition\":\"auto\",\"x\":[\"Abdominals\",\"Quadriceps\",\"Shoulders\",\"Chest\",\"Biceps\",\"Triceps\",\"Lats\",\"Hamstrings\",\"Middle Back\",\"Lower Back\",\"Glutes\",\"Calves\",\"Forearms\",\"Traps\",\"Abductors\",\"Adductors\",\"Neck\"],\"xaxis\":\"x\",\"y\":[662,646,340,262,168,151,124,121,118,97,81,47,31,24,21,17,8],\"yaxis\":\"y\",\"type\":\"bar\"}],                        {\"template\":{\"data\":{\"histogram2dcontour\":[{\"type\":\"histogram2dcontour\",\"colorbar\":{\"outlinewidth\":0,\"ticks\":\"\"},\"colorscale\":[[0.0,\"#0d0887\"],[0.1111111111111111,\"#46039f\"],[0.2222222222222222,\"#7201a8\"],[0.3333333333333333,\"#9c179e\"],[0.4444444444444444,\"#bd3786\"],[0.5555555555555556,\"#d8576b\"],[0.6666666666666666,\"#ed7953\"],[0.7777777777777778,\"#fb9f3a\"],[0.8888888888888888,\"#fdca26\"],[1.0,\"#f0f921\"]]}],\"choropleth\":[{\"type\":\"choropleth\",\"colorbar\":{\"outlinewidth\":0,\"ticks\":\"\"}}],\"histogram2d\":[{\"type\":\"histogram2d\",\"colorbar\":{\"outlinewidth\":0,\"ticks\":\"\"},\"colorscale\":[[0.0,\"#0d0887\"],[0.1111111111111111,\"#46039f\"],[0.2222222222222222,\"#7201a8\"],[0.3333333333333333,\"#9c179e\"],[0.4444444444444444,\"#bd3786\"],[0.5555555555555556,\"#d8576b\"],[0.6666666666666666,\"#ed7953\"],[0.7777777777777778,\"#fb9f3a\"],[0.8888888888888888,\"#fdca26\"],[1.0,\"#f0f921\"]]}],\"heatmap\":[{\"type\":\"heatmap\",\"colorbar\":{\"outlinewidth\":0,\"ticks\":\"\"},\"colorscale\":[[0.0,\"#0d0887\"],[0.1111111111111111,\"#46039f\"],[0.2222222222222222,\"#7201a8\"],[0.3333333333333333,\"#9c179e\"],[0.4444444444444444,\"#bd3786\"],[0.5555555555555556,\"#d8576b\"],[0.6666666666666666,\"#ed7953\"],[0.7777777777777778,\"#fb9f3a\"],[0.8888888888888888,\"#fdca26\"],[1.0,\"#f0f921\"]]}],\"heatmapgl\":[{\"type\":\"heatmapgl\",\"colorbar\":{\"outlinewidth\":0,\"ticks\":\"\"},\"colorscale\":[[0.0,\"#0d0887\"],[0.1111111111111111,\"#46039f\"],[0.2222222222222222,\"#7201a8\"],[0.3333333333333333,\"#9c179e\"],[0.4444444444444444,\"#bd3786\"],[0.5555555555555556,\"#d8576b\"],[0.6666666666666666,\"#ed7953\"],[0.7777777777777778,\"#fb9f3a\"],[0.8888888888888888,\"#fdca26\"],[1.0,\"#f0f921\"]]}],\"contourcarpet\":[{\"type\":\"contourcarpet\",\"colorbar\":{\"outlinewidth\":0,\"ticks\":\"\"}}],\"contour\":[{\"type\":\"contour\",\"colorbar\":{\"outlinewidth\":0,\"ticks\":\"\"},\"colorscale\":[[0.0,\"#0d0887\"],[0.1111111111111111,\"#46039f\"],[0.2222222222222222,\"#7201a8\"],[0.3333333333333333,\"#9c179e\"],[0.4444444444444444,\"#bd3786\"],[0.5555555555555556,\"#d8576b\"],[0.6666666666666666,\"#ed7953\"],[0.7777777777777778,\"#fb9f3a\"],[0.8888888888888888,\"#fdca26\"],[1.0,\"#f0f921\"]]}],\"surface\":[{\"type\":\"surface\",\"colorbar\":{\"outlinewidth\":0,\"ticks\":\"\"},\"colorscale\":[[0.0,\"#0d0887\"],[0.1111111111111111,\"#46039f\"],[0.2222222222222222,\"#7201a8\"],[0.3333333333333333,\"#9c179e\"],[0.4444444444444444,\"#bd3786\"],[0.5555555555555556,\"#d8576b\"],[0.6666666666666666,\"#ed7953\"],[0.7777777777777778,\"#fb9f3a\"],[0.8888888888888888,\"#fdca26\"],[1.0,\"#f0f921\"]]}],\"mesh3d\":[{\"type\":\"mesh3d\",\"colorbar\":{\"outlinewidth\":0,\"ticks\":\"\"}}],\"scatter\":[{\"fillpattern\":{\"fillmode\":\"overlay\",\"size\":10,\"solidity\":0.2},\"type\":\"scatter\"}],\"parcoords\":[{\"type\":\"parcoords\",\"line\":{\"colorbar\":{\"outlinewidth\":0,\"ticks\":\"\"}}}],\"scatterpolargl\":[{\"type\":\"scatterpolargl\",\"marker\":{\"colorbar\":{\"outlinewidth\":0,\"ticks\":\"\"}}}],\"bar\":[{\"error_x\":{\"color\":\"#2a3f5f\"},\"error_y\":{\"color\":\"#2a3f5f\"},\"marker\":{\"line\":{\"color\":\"#E5ECF6\",\"width\":0.5},\"pattern\":{\"fillmode\":\"overlay\",\"size\":10,\"solidity\":0.2}},\"type\":\"bar\"}],\"scattergeo\":[{\"type\":\"scattergeo\",\"marker\":{\"colorbar\":{\"outlinewidth\":0,\"ticks\":\"\"}}}],\"scatterpolar\":[{\"type\":\"scatterpolar\",\"marker\":{\"colorbar\":{\"outlinewidth\":0,\"ticks\":\"\"}}}],\"histogram\":[{\"marker\":{\"pattern\":{\"fillmode\":\"overlay\",\"size\":10,\"solidity\":0.2}},\"type\":\"histogram\"}],\"scattergl\":[{\"type\":\"scattergl\",\"marker\":{\"colorbar\":{\"outlinewidth\":0,\"ticks\":\"\"}}}],\"scatter3d\":[{\"type\":\"scatter3d\",\"line\":{\"colorbar\":{\"outlinewidth\":0,\"ticks\":\"\"}},\"marker\":{\"colorbar\":{\"outlinewidth\":0,\"ticks\":\"\"}}}],\"scattermapbox\":[{\"type\":\"scattermapbox\",\"marker\":{\"colorbar\":{\"outlinewidth\":0,\"ticks\":\"\"}}}],\"scatterternary\":[{\"type\":\"scatterternary\",\"marker\":{\"colorbar\":{\"outlinewidth\":0,\"ticks\":\"\"}}}],\"scattercarpet\":[{\"type\":\"scattercarpet\",\"marker\":{\"colorbar\":{\"outlinewidth\":0,\"ticks\":\"\"}}}],\"carpet\":[{\"aaxis\":{\"endlinecolor\":\"#2a3f5f\",\"gridcolor\":\"white\",\"linecolor\":\"white\",\"minorgridcolor\":\"white\",\"startlinecolor\":\"#2a3f5f\"},\"baxis\":{\"endlinecolor\":\"#2a3f5f\",\"gridcolor\":\"white\",\"linecolor\":\"white\",\"minorgridcolor\":\"white\",\"startlinecolor\":\"#2a3f5f\"},\"type\":\"carpet\"}],\"table\":[{\"cells\":{\"fill\":{\"color\":\"#EBF0F8\"},\"line\":{\"color\":\"white\"}},\"header\":{\"fill\":{\"color\":\"#C8D4E3\"},\"line\":{\"color\":\"white\"}},\"type\":\"table\"}],\"barpolar\":[{\"marker\":{\"line\":{\"color\":\"#E5ECF6\",\"width\":0.5},\"pattern\":{\"fillmode\":\"overlay\",\"size\":10,\"solidity\":0.2}},\"type\":\"barpolar\"}],\"pie\":[{\"automargin\":true,\"type\":\"pie\"}]},\"layout\":{\"autotypenumbers\":\"strict\",\"colorway\":[\"#636efa\",\"#EF553B\",\"#00cc96\",\"#ab63fa\",\"#FFA15A\",\"#19d3f3\",\"#FF6692\",\"#B6E880\",\"#FF97FF\",\"#FECB52\"],\"font\":{\"color\":\"#2a3f5f\"},\"hovermode\":\"closest\",\"hoverlabel\":{\"align\":\"left\"},\"paper_bgcolor\":\"white\",\"plot_bgcolor\":\"#E5ECF6\",\"polar\":{\"bgcolor\":\"#E5ECF6\",\"angularaxis\":{\"gridcolor\":\"white\",\"linecolor\":\"white\",\"ticks\":\"\"},\"radialaxis\":{\"gridcolor\":\"white\",\"linecolor\":\"white\",\"ticks\":\"\"}},\"ternary\":{\"bgcolor\":\"#E5ECF6\",\"aaxis\":{\"gridcolor\":\"white\",\"linecolor\":\"white\",\"ticks\":\"\"},\"baxis\":{\"gridcolor\":\"white\",\"linecolor\":\"white\",\"ticks\":\"\"},\"caxis\":{\"gridcolor\":\"white\",\"linecolor\":\"white\",\"ticks\":\"\"}},\"coloraxis\":{\"colorbar\":{\"outlinewidth\":0,\"ticks\":\"\"}},\"colorscale\":{\"sequential\":[[0.0,\"#0d0887\"],[0.1111111111111111,\"#46039f\"],[0.2222222222222222,\"#7201a8\"],[0.3333333333333333,\"#9c179e\"],[0.4444444444444444,\"#bd3786\"],[0.5555555555555556,\"#d8576b\"],[0.6666666666666666,\"#ed7953\"],[0.7777777777777778,\"#fb9f3a\"],[0.8888888888888888,\"#fdca26\"],[1.0,\"#f0f921\"]],\"sequentialminus\":[[0.0,\"#0d0887\"],[0.1111111111111111,\"#46039f\"],[0.2222222222222222,\"#7201a8\"],[0.3333333333333333,\"#9c179e\"],[0.4444444444444444,\"#bd3786\"],[0.5555555555555556,\"#d8576b\"],[0.6666666666666666,\"#ed7953\"],[0.7777777777777778,\"#fb9f3a\"],[0.8888888888888888,\"#fdca26\"],[1.0,\"#f0f921\"]],\"diverging\":[[0,\"#8e0152\"],[0.1,\"#c51b7d\"],[0.2,\"#de77ae\"],[0.3,\"#f1b6da\"],[0.4,\"#fde0ef\"],[0.5,\"#f7f7f7\"],[0.6,\"#e6f5d0\"],[0.7,\"#b8e186\"],[0.8,\"#7fbc41\"],[0.9,\"#4d9221\"],[1,\"#276419\"]]},\"xaxis\":{\"gridcolor\":\"white\",\"linecolor\":\"white\",\"ticks\":\"\",\"title\":{\"standoff\":15},\"zerolinecolor\":\"white\",\"automargin\":true,\"zerolinewidth\":2},\"yaxis\":{\"gridcolor\":\"white\",\"linecolor\":\"white\",\"ticks\":\"\",\"title\":{\"standoff\":15},\"zerolinecolor\":\"white\",\"automargin\":true,\"zerolinewidth\":2},\"scene\":{\"xaxis\":{\"backgroundcolor\":\"#E5ECF6\",\"gridcolor\":\"white\",\"linecolor\":\"white\",\"showbackground\":true,\"ticks\":\"\",\"zerolinecolor\":\"white\",\"gridwidth\":2},\"yaxis\":{\"backgroundcolor\":\"#E5ECF6\",\"gridcolor\":\"white\",\"linecolor\":\"white\",\"showbackground\":true,\"ticks\":\"\",\"zerolinecolor\":\"white\",\"gridwidth\":2},\"zaxis\":{\"backgroundcolor\":\"#E5ECF6\",\"gridcolor\":\"white\",\"linecolor\":\"white\",\"showbackground\":true,\"ticks\":\"\",\"zerolinecolor\":\"white\",\"gridwidth\":2}},\"shapedefaults\":{\"line\":{\"color\":\"#2a3f5f\"}},\"annotationdefaults\":{\"arrowcolor\":\"#2a3f5f\",\"arrowhead\":0,\"arrowwidth\":1},\"geo\":{\"bgcolor\":\"white\",\"landcolor\":\"#E5ECF6\",\"subunitcolor\":\"white\",\"showland\":true,\"showlakes\":true,\"lakecolor\":\"white\"},\"title\":{\"x\":0.05},\"mapbox\":{\"style\":\"light\"}}},\"xaxis\":{\"anchor\":\"y\",\"domain\":[0.0,1.0],\"title\":{\"text\":\"BodyPart\"}},\"yaxis\":{\"anchor\":\"x\",\"domain\":[0.0,1.0],\"title\":{\"text\":\"index\"}},\"legend\":{\"tracegroupgap\":0},\"margin\":{\"t\":60},\"barmode\":\"relative\"},                        {\"responsive\": true}                    ).then(function(){\n",
       "                            \n",
       "var gd = document.getElementById('4327febc-f7c7-4cd2-adcf-fe0bd68cbd9c');\n",
       "var x = new MutationObserver(function (mutations, observer) {{\n",
       "        var display = window.getComputedStyle(gd).display;\n",
       "        if (!display || display === 'none') {{\n",
       "            console.log([gd, 'removed!']);\n",
       "            Plotly.purge(gd);\n",
       "            observer.disconnect();\n",
       "        }}\n",
       "}});\n",
       "\n",
       "// Listen for the removal of the full notebook cells\n",
       "var notebookContainer = gd.closest('#notebook-container');\n",
       "if (notebookContainer) {{\n",
       "    x.observe(notebookContainer, {childList: true});\n",
       "}}\n",
       "\n",
       "// Listen for the clearing of the current output cell\n",
       "var outputEl = gd.closest('.output');\n",
       "if (outputEl) {{\n",
       "    x.observe(outputEl, {childList: true});\n",
       "}}\n",
       "\n",
       "                        })                };                });            </script>        </div>"
      ]
     },
     "metadata": {},
     "output_type": "display_data"
    }
   ],
   "source": [
    "count_exercises= count_exercises.sort_values(by='index', ascending= False)\n",
    "fig = px.bar(count_exercises, x=count_exercises.index, y='index')\n",
    "fig.show()"
   ]
  },
  {
   "cell_type": "markdown",
   "id": "df774e57",
   "metadata": {
    "papermill": {
     "duration": 0.013047,
     "end_time": "2023-02-04T10:12:56.401840",
     "exception": false,
     "start_time": "2023-02-04T10:12:56.388793",
     "status": "completed"
    },
    "tags": []
   },
   "source": [
    "From the above analysis, its clear that abdominals have the most amount of exercises followed by the quads, while the neck,adductors and abductors are in the bottom 3. Also looks like the calves and glutes have relatively less amount of exercises than the others."
   ]
  },
  {
   "cell_type": "markdown",
   "id": "263ea9ea",
   "metadata": {
    "papermill": {
     "duration": 0.012557,
     "end_time": "2023-02-04T10:12:56.427256",
     "exception": false,
     "start_time": "2023-02-04T10:12:56.414699",
     "status": "completed"
    },
    "tags": []
   },
   "source": [
    "Let's dive a bit further into it and analyse the dataset in the perspective of beginners."
   ]
  },
  {
   "cell_type": "code",
   "execution_count": 8,
   "id": "ee7e1496",
   "metadata": {
    "execution": {
     "iopub.execute_input": "2023-02-04T10:12:56.454784Z",
     "iopub.status.busy": "2023-02-04T10:12:56.453985Z",
     "iopub.status.idle": "2023-02-04T10:12:56.476263Z",
     "shell.execute_reply": "2023-02-04T10:12:56.475133Z"
    },
    "papermill": {
     "duration": 0.038617,
     "end_time": "2023-02-04T10:12:56.478619",
     "exception": false,
     "start_time": "2023-02-04T10:12:56.440002",
     "status": "completed"
    },
    "tags": []
   },
   "outputs": [
    {
     "data": {
      "text/html": [
       "<div>\n",
       "<style scoped>\n",
       "    .dataframe tbody tr th:only-of-type {\n",
       "        vertical-align: middle;\n",
       "    }\n",
       "\n",
       "    .dataframe tbody tr th {\n",
       "        vertical-align: top;\n",
       "    }\n",
       "\n",
       "    .dataframe thead th {\n",
       "        text-align: right;\n",
       "    }\n",
       "</style>\n",
       "<table border=\"1\" class=\"dataframe\">\n",
       "  <thead>\n",
       "    <tr style=\"text-align: right;\">\n",
       "      <th></th>\n",
       "      <th>index</th>\n",
       "      <th>Title</th>\n",
       "      <th>Desc</th>\n",
       "      <th>Type</th>\n",
       "      <th>BodyPart</th>\n",
       "      <th>Equipment</th>\n",
       "      <th>Level</th>\n",
       "      <th>Rating</th>\n",
       "      <th>RatingDesc</th>\n",
       "    </tr>\n",
       "  </thead>\n",
       "  <tbody>\n",
       "    <tr>\n",
       "      <th>11</th>\n",
       "      <td>11</td>\n",
       "      <td>Bench barbell roll-out</td>\n",
       "      <td>The bench barbell roll-out is a challenging ex...</td>\n",
       "      <td>Strength</td>\n",
       "      <td>Abdominals</td>\n",
       "      <td>Barbell</td>\n",
       "      <td>Beginner</td>\n",
       "      <td>8.3</td>\n",
       "      <td>Average</td>\n",
       "    </tr>\n",
       "    <tr>\n",
       "      <th>12</th>\n",
       "      <td>12</td>\n",
       "      <td>Barbell Side Bend</td>\n",
       "      <td>NaN</td>\n",
       "      <td>Strength</td>\n",
       "      <td>Abdominals</td>\n",
       "      <td>Barbell</td>\n",
       "      <td>Beginner</td>\n",
       "      <td>7.0</td>\n",
       "      <td>Average</td>\n",
       "    </tr>\n",
       "    <tr>\n",
       "      <th>20</th>\n",
       "      <td>20</td>\n",
       "      <td>Advanced Kettlebell Windmill</td>\n",
       "      <td>NaN</td>\n",
       "      <td>Strength</td>\n",
       "      <td>Abdominals</td>\n",
       "      <td>Kettlebells</td>\n",
       "      <td>Beginner</td>\n",
       "      <td>8.3</td>\n",
       "      <td>Average</td>\n",
       "    </tr>\n",
       "    <tr>\n",
       "      <th>22</th>\n",
       "      <td>22</td>\n",
       "      <td>Kettlebell Pass Between The Legs</td>\n",
       "      <td>NaN</td>\n",
       "      <td>Strength</td>\n",
       "      <td>Abdominals</td>\n",
       "      <td>Kettlebells</td>\n",
       "      <td>Beginner</td>\n",
       "      <td>7.3</td>\n",
       "      <td>Average</td>\n",
       "    </tr>\n",
       "    <tr>\n",
       "      <th>40</th>\n",
       "      <td>40</td>\n",
       "      <td>Dumbbell spell caster</td>\n",
       "      <td>The dumbbell spell caster is an exercise that ...</td>\n",
       "      <td>Strength</td>\n",
       "      <td>Abdominals</td>\n",
       "      <td>Dumbbell</td>\n",
       "      <td>Beginner</td>\n",
       "      <td>9.3</td>\n",
       "      <td>Average</td>\n",
       "    </tr>\n",
       "    <tr>\n",
       "      <th>...</th>\n",
       "      <td>...</td>\n",
       "      <td>...</td>\n",
       "      <td>...</td>\n",
       "      <td>...</td>\n",
       "      <td>...</td>\n",
       "      <td>...</td>\n",
       "      <td>...</td>\n",
       "      <td>...</td>\n",
       "      <td>...</td>\n",
       "    </tr>\n",
       "    <tr>\n",
       "      <th>2841</th>\n",
       "      <td>2841</td>\n",
       "      <td>Low Cable Triceps Extension</td>\n",
       "      <td>NaN</td>\n",
       "      <td>Strength</td>\n",
       "      <td>Triceps</td>\n",
       "      <td>Cable</td>\n",
       "      <td>Beginner</td>\n",
       "      <td>8.2</td>\n",
       "      <td>Average</td>\n",
       "    </tr>\n",
       "    <tr>\n",
       "      <th>2889</th>\n",
       "      <td>2889</td>\n",
       "      <td>Standing Towel Triceps Extension</td>\n",
       "      <td>NaN</td>\n",
       "      <td>Strength</td>\n",
       "      <td>Triceps</td>\n",
       "      <td>Body Only</td>\n",
       "      <td>Beginner</td>\n",
       "      <td>6.5</td>\n",
       "      <td>Average</td>\n",
       "    </tr>\n",
       "    <tr>\n",
       "      <th>2892</th>\n",
       "      <td>2892</td>\n",
       "      <td>Overhead Triceps</td>\n",
       "      <td>NaN</td>\n",
       "      <td>Stretching</td>\n",
       "      <td>Triceps</td>\n",
       "      <td>Body Only</td>\n",
       "      <td>Beginner</td>\n",
       "      <td>3.3</td>\n",
       "      <td>Average</td>\n",
       "    </tr>\n",
       "    <tr>\n",
       "      <th>2910</th>\n",
       "      <td>2910</td>\n",
       "      <td>Supine Chest Throw</td>\n",
       "      <td>NaN</td>\n",
       "      <td>Plyometrics</td>\n",
       "      <td>Triceps</td>\n",
       "      <td>Medicine Ball</td>\n",
       "      <td>Beginner</td>\n",
       "      <td>8.2</td>\n",
       "      <td>Average</td>\n",
       "    </tr>\n",
       "    <tr>\n",
       "      <th>2914</th>\n",
       "      <td>2914</td>\n",
       "      <td>Lying Close-Grip Barbell Triceps Press To Chin</td>\n",
       "      <td>NaN</td>\n",
       "      <td>Strength</td>\n",
       "      <td>Triceps</td>\n",
       "      <td>E-Z Curl Bar</td>\n",
       "      <td>Beginner</td>\n",
       "      <td>8.1</td>\n",
       "      <td>Average</td>\n",
       "    </tr>\n",
       "  </tbody>\n",
       "</table>\n",
       "<p>459 rows × 9 columns</p>\n",
       "</div>"
      ],
      "text/plain": [
       "      index                                           Title  \\\n",
       "11       11                          Bench barbell roll-out   \n",
       "12       12                               Barbell Side Bend   \n",
       "20       20                    Advanced Kettlebell Windmill   \n",
       "22       22                Kettlebell Pass Between The Legs   \n",
       "40       40                           Dumbbell spell caster   \n",
       "...     ...                                             ...   \n",
       "2841   2841                     Low Cable Triceps Extension   \n",
       "2889   2889                Standing Towel Triceps Extension   \n",
       "2892   2892                                Overhead Triceps   \n",
       "2910   2910                              Supine Chest Throw   \n",
       "2914   2914  Lying Close-Grip Barbell Triceps Press To Chin   \n",
       "\n",
       "                                                   Desc         Type  \\\n",
       "11    The bench barbell roll-out is a challenging ex...     Strength   \n",
       "12                                                  NaN     Strength   \n",
       "20                                                  NaN     Strength   \n",
       "22                                                  NaN     Strength   \n",
       "40    The dumbbell spell caster is an exercise that ...     Strength   \n",
       "...                                                 ...          ...   \n",
       "2841                                                NaN     Strength   \n",
       "2889                                                NaN     Strength   \n",
       "2892                                                NaN   Stretching   \n",
       "2910                                                NaN  Plyometrics   \n",
       "2914                                                NaN     Strength   \n",
       "\n",
       "        BodyPart      Equipment     Level  Rating RatingDesc  \n",
       "11    Abdominals        Barbell  Beginner     8.3    Average  \n",
       "12    Abdominals        Barbell  Beginner     7.0    Average  \n",
       "20    Abdominals    Kettlebells  Beginner     8.3    Average  \n",
       "22    Abdominals    Kettlebells  Beginner     7.3    Average  \n",
       "40    Abdominals       Dumbbell  Beginner     9.3    Average  \n",
       "...          ...            ...       ...     ...        ...  \n",
       "2841     Triceps          Cable  Beginner     8.2    Average  \n",
       "2889     Triceps      Body Only  Beginner     6.5    Average  \n",
       "2892     Triceps      Body Only  Beginner     3.3    Average  \n",
       "2910     Triceps  Medicine Ball  Beginner     8.2    Average  \n",
       "2914     Triceps   E-Z Curl Bar  Beginner     8.1    Average  \n",
       "\n",
       "[459 rows x 9 columns]"
      ]
     },
     "execution_count": 8,
     "metadata": {},
     "output_type": "execute_result"
    }
   ],
   "source": [
    "beginner = gym_data[gym_data.Level == 'Beginner']\n",
    "beginner"
   ]
  },
  {
   "cell_type": "markdown",
   "id": "6b63f066",
   "metadata": {
    "papermill": {
     "duration": 0.012856,
     "end_time": "2023-02-04T10:12:56.504656",
     "exception": false,
     "start_time": "2023-02-04T10:12:56.491800",
     "status": "completed"
    },
    "tags": []
   },
   "source": [
    "Most beginners usually start at home or with minimal equipment. "
   ]
  },
  {
   "cell_type": "code",
   "execution_count": 9,
   "id": "7af369ce",
   "metadata": {
    "execution": {
     "iopub.execute_input": "2023-02-04T10:12:56.532618Z",
     "iopub.status.busy": "2023-02-04T10:12:56.532217Z",
     "iopub.status.idle": "2023-02-04T10:12:56.552595Z",
     "shell.execute_reply": "2023-02-04T10:12:56.551730Z"
    },
    "papermill": {
     "duration": 0.036807,
     "end_time": "2023-02-04T10:12:56.554646",
     "exception": false,
     "start_time": "2023-02-04T10:12:56.517839",
     "status": "completed"
    },
    "tags": []
   },
   "outputs": [
    {
     "data": {
      "text/html": [
       "<div>\n",
       "<style scoped>\n",
       "    .dataframe tbody tr th:only-of-type {\n",
       "        vertical-align: middle;\n",
       "    }\n",
       "\n",
       "    .dataframe tbody tr th {\n",
       "        vertical-align: top;\n",
       "    }\n",
       "\n",
       "    .dataframe thead th {\n",
       "        text-align: right;\n",
       "    }\n",
       "</style>\n",
       "<table border=\"1\" class=\"dataframe\">\n",
       "  <thead>\n",
       "    <tr style=\"text-align: right;\">\n",
       "      <th></th>\n",
       "      <th>index</th>\n",
       "      <th>Title</th>\n",
       "      <th>Desc</th>\n",
       "      <th>Type</th>\n",
       "      <th>BodyPart</th>\n",
       "      <th>Equipment</th>\n",
       "      <th>Level</th>\n",
       "      <th>Rating</th>\n",
       "      <th>RatingDesc</th>\n",
       "    </tr>\n",
       "  </thead>\n",
       "  <tbody>\n",
       "    <tr>\n",
       "      <th>194</th>\n",
       "      <td>194</td>\n",
       "      <td>Gorilla Chin/Crunch</td>\n",
       "      <td>NaN</td>\n",
       "      <td>Strength</td>\n",
       "      <td>Abdominals</td>\n",
       "      <td>Body Only</td>\n",
       "      <td>Beginner</td>\n",
       "      <td>9.0</td>\n",
       "      <td>Average</td>\n",
       "    </tr>\n",
       "    <tr>\n",
       "      <th>202</th>\n",
       "      <td>202</td>\n",
       "      <td>Crunch - Hands Overhead</td>\n",
       "      <td>NaN</td>\n",
       "      <td>Strength</td>\n",
       "      <td>Abdominals</td>\n",
       "      <td>Body Only</td>\n",
       "      <td>Beginner</td>\n",
       "      <td>8.6</td>\n",
       "      <td>Average</td>\n",
       "    </tr>\n",
       "    <tr>\n",
       "      <th>204</th>\n",
       "      <td>204</td>\n",
       "      <td>Stomach Vacuum</td>\n",
       "      <td>NaN</td>\n",
       "      <td>Stretching</td>\n",
       "      <td>Abdominals</td>\n",
       "      <td>Body Only</td>\n",
       "      <td>Beginner</td>\n",
       "      <td>8.5</td>\n",
       "      <td>Average</td>\n",
       "    </tr>\n",
       "    <tr>\n",
       "      <th>208</th>\n",
       "      <td>208</td>\n",
       "      <td>Butt-Ups</td>\n",
       "      <td>NaN</td>\n",
       "      <td>Strength</td>\n",
       "      <td>Abdominals</td>\n",
       "      <td>Body Only</td>\n",
       "      <td>Beginner</td>\n",
       "      <td>8.3</td>\n",
       "      <td>Average</td>\n",
       "    </tr>\n",
       "    <tr>\n",
       "      <th>217</th>\n",
       "      <td>217</td>\n",
       "      <td>Janda Sit-Up</td>\n",
       "      <td>NaN</td>\n",
       "      <td>Strength</td>\n",
       "      <td>Abdominals</td>\n",
       "      <td>Body Only</td>\n",
       "      <td>Beginner</td>\n",
       "      <td>7.4</td>\n",
       "      <td>Average</td>\n",
       "    </tr>\n",
       "    <tr>\n",
       "      <th>...</th>\n",
       "      <td>...</td>\n",
       "      <td>...</td>\n",
       "      <td>...</td>\n",
       "      <td>...</td>\n",
       "      <td>...</td>\n",
       "      <td>...</td>\n",
       "      <td>...</td>\n",
       "      <td>...</td>\n",
       "      <td>...</td>\n",
       "    </tr>\n",
       "    <tr>\n",
       "      <th>2175</th>\n",
       "      <td>2175</td>\n",
       "      <td>Slow Jog</td>\n",
       "      <td>NaN</td>\n",
       "      <td>Cardio</td>\n",
       "      <td>Quadriceps</td>\n",
       "      <td>Body Only</td>\n",
       "      <td>Beginner</td>\n",
       "      <td>0.0</td>\n",
       "      <td>NaN</td>\n",
       "    </tr>\n",
       "    <tr>\n",
       "      <th>2178</th>\n",
       "      <td>2178</td>\n",
       "      <td>Square Hop</td>\n",
       "      <td>NaN</td>\n",
       "      <td>Plyometrics</td>\n",
       "      <td>Quadriceps</td>\n",
       "      <td>Body Only</td>\n",
       "      <td>Beginner</td>\n",
       "      <td>0.0</td>\n",
       "      <td>NaN</td>\n",
       "    </tr>\n",
       "    <tr>\n",
       "      <th>2731</th>\n",
       "      <td>2731</td>\n",
       "      <td>Seated Front Deltoid</td>\n",
       "      <td>NaN</td>\n",
       "      <td>Stretching</td>\n",
       "      <td>Shoulders</td>\n",
       "      <td>Body Only</td>\n",
       "      <td>Beginner</td>\n",
       "      <td>4.5</td>\n",
       "      <td>Average</td>\n",
       "    </tr>\n",
       "    <tr>\n",
       "      <th>2889</th>\n",
       "      <td>2889</td>\n",
       "      <td>Standing Towel Triceps Extension</td>\n",
       "      <td>NaN</td>\n",
       "      <td>Strength</td>\n",
       "      <td>Triceps</td>\n",
       "      <td>Body Only</td>\n",
       "      <td>Beginner</td>\n",
       "      <td>6.5</td>\n",
       "      <td>Average</td>\n",
       "    </tr>\n",
       "    <tr>\n",
       "      <th>2892</th>\n",
       "      <td>2892</td>\n",
       "      <td>Overhead Triceps</td>\n",
       "      <td>NaN</td>\n",
       "      <td>Stretching</td>\n",
       "      <td>Triceps</td>\n",
       "      <td>Body Only</td>\n",
       "      <td>Beginner</td>\n",
       "      <td>3.3</td>\n",
       "      <td>Average</td>\n",
       "    </tr>\n",
       "  </tbody>\n",
       "</table>\n",
       "<p>82 rows × 9 columns</p>\n",
       "</div>"
      ],
      "text/plain": [
       "      index                             Title Desc         Type    BodyPart  \\\n",
       "194     194               Gorilla Chin/Crunch  NaN     Strength  Abdominals   \n",
       "202     202           Crunch - Hands Overhead  NaN     Strength  Abdominals   \n",
       "204     204                    Stomach Vacuum  NaN   Stretching  Abdominals   \n",
       "208     208                          Butt-Ups  NaN     Strength  Abdominals   \n",
       "217     217                      Janda Sit-Up  NaN     Strength  Abdominals   \n",
       "...     ...                               ...  ...          ...         ...   \n",
       "2175   2175                          Slow Jog  NaN       Cardio  Quadriceps   \n",
       "2178   2178                        Square Hop  NaN  Plyometrics  Quadriceps   \n",
       "2731   2731              Seated Front Deltoid  NaN   Stretching   Shoulders   \n",
       "2889   2889  Standing Towel Triceps Extension  NaN     Strength     Triceps   \n",
       "2892   2892                  Overhead Triceps  NaN   Stretching     Triceps   \n",
       "\n",
       "      Equipment     Level  Rating RatingDesc  \n",
       "194   Body Only  Beginner     9.0    Average  \n",
       "202   Body Only  Beginner     8.6    Average  \n",
       "204   Body Only  Beginner     8.5    Average  \n",
       "208   Body Only  Beginner     8.3    Average  \n",
       "217   Body Only  Beginner     7.4    Average  \n",
       "...         ...       ...     ...        ...  \n",
       "2175  Body Only  Beginner     0.0        NaN  \n",
       "2178  Body Only  Beginner     0.0        NaN  \n",
       "2731  Body Only  Beginner     4.5    Average  \n",
       "2889  Body Only  Beginner     6.5    Average  \n",
       "2892  Body Only  Beginner     3.3    Average  \n",
       "\n",
       "[82 rows x 9 columns]"
      ]
     },
     "execution_count": 9,
     "metadata": {},
     "output_type": "execute_result"
    }
   ],
   "source": [
    "body_only =beginner[beginner.Equipment == 'Body Only']\n",
    "body_only"
   ]
  },
  {
   "cell_type": "code",
   "execution_count": 10,
   "id": "c897f166",
   "metadata": {
    "execution": {
     "iopub.execute_input": "2023-02-04T10:12:56.583784Z",
     "iopub.status.busy": "2023-02-04T10:12:56.583158Z",
     "iopub.status.idle": "2023-02-04T10:12:56.660924Z",
     "shell.execute_reply": "2023-02-04T10:12:56.659613Z"
    },
    "papermill": {
     "duration": 0.095179,
     "end_time": "2023-02-04T10:12:56.663382",
     "exception": false,
     "start_time": "2023-02-04T10:12:56.568203",
     "status": "completed"
    },
    "tags": []
   },
   "outputs": [
    {
     "data": {
      "text/html": [
       "<div>                            <div id=\"88b8c9c1-3881-4a25-845e-470e5de492a0\" class=\"plotly-graph-div\" style=\"height:525px; width:100%;\"></div>            <script type=\"text/javascript\">                require([\"plotly\"], function(Plotly) {                    window.PLOTLYENV=window.PLOTLYENV || {};                                    if (document.getElementById(\"88b8c9c1-3881-4a25-845e-470e5de492a0\")) {                    Plotly.newPlot(                        \"88b8c9c1-3881-4a25-845e-470e5de492a0\",                        [{\"alignmentgroup\":\"True\",\"hovertemplate\":\"BodyPart=%{x}<br>index=%{marker.color}<extra></extra>\",\"legendgroup\":\"\",\"marker\":{\"color\":[1,1,1,1,2,2,2,2,3,3,6,9,14,15,20],\"coloraxis\":\"coloraxis\",\"pattern\":{\"shape\":\"\"}},\"name\":\"\",\"offsetgroup\":\"\",\"orientation\":\"v\",\"showlegend\":false,\"textposition\":\"auto\",\"x\":[\"Biceps\",\"Calves\",\"Forearms\",\"Shoulders\",\"Adductors\",\"Lats\",\"Lower Back\",\"Triceps\",\"Abductors\",\"Neck\",\"Glutes\",\"Hamstrings\",\"Quadriceps\",\"Abdominals\",\"Chest\"],\"xaxis\":\"x\",\"y\":[1,1,1,1,2,2,2,2,3,3,6,9,14,15,20],\"yaxis\":\"y\",\"type\":\"bar\"}],                        {\"template\":{\"data\":{\"histogram2dcontour\":[{\"type\":\"histogram2dcontour\",\"colorbar\":{\"outlinewidth\":0,\"ticks\":\"\"},\"colorscale\":[[0.0,\"#0d0887\"],[0.1111111111111111,\"#46039f\"],[0.2222222222222222,\"#7201a8\"],[0.3333333333333333,\"#9c179e\"],[0.4444444444444444,\"#bd3786\"],[0.5555555555555556,\"#d8576b\"],[0.6666666666666666,\"#ed7953\"],[0.7777777777777778,\"#fb9f3a\"],[0.8888888888888888,\"#fdca26\"],[1.0,\"#f0f921\"]]}],\"choropleth\":[{\"type\":\"choropleth\",\"colorbar\":{\"outlinewidth\":0,\"ticks\":\"\"}}],\"histogram2d\":[{\"type\":\"histogram2d\",\"colorbar\":{\"outlinewidth\":0,\"ticks\":\"\"},\"colorscale\":[[0.0,\"#0d0887\"],[0.1111111111111111,\"#46039f\"],[0.2222222222222222,\"#7201a8\"],[0.3333333333333333,\"#9c179e\"],[0.4444444444444444,\"#bd3786\"],[0.5555555555555556,\"#d8576b\"],[0.6666666666666666,\"#ed7953\"],[0.7777777777777778,\"#fb9f3a\"],[0.8888888888888888,\"#fdca26\"],[1.0,\"#f0f921\"]]}],\"heatmap\":[{\"type\":\"heatmap\",\"colorbar\":{\"outlinewidth\":0,\"ticks\":\"\"},\"colorscale\":[[0.0,\"#0d0887\"],[0.1111111111111111,\"#46039f\"],[0.2222222222222222,\"#7201a8\"],[0.3333333333333333,\"#9c179e\"],[0.4444444444444444,\"#bd3786\"],[0.5555555555555556,\"#d8576b\"],[0.6666666666666666,\"#ed7953\"],[0.7777777777777778,\"#fb9f3a\"],[0.8888888888888888,\"#fdca26\"],[1.0,\"#f0f921\"]]}],\"heatmapgl\":[{\"type\":\"heatmapgl\",\"colorbar\":{\"outlinewidth\":0,\"ticks\":\"\"},\"colorscale\":[[0.0,\"#0d0887\"],[0.1111111111111111,\"#46039f\"],[0.2222222222222222,\"#7201a8\"],[0.3333333333333333,\"#9c179e\"],[0.4444444444444444,\"#bd3786\"],[0.5555555555555556,\"#d8576b\"],[0.6666666666666666,\"#ed7953\"],[0.7777777777777778,\"#fb9f3a\"],[0.8888888888888888,\"#fdca26\"],[1.0,\"#f0f921\"]]}],\"contourcarpet\":[{\"type\":\"contourcarpet\",\"colorbar\":{\"outlinewidth\":0,\"ticks\":\"\"}}],\"contour\":[{\"type\":\"contour\",\"colorbar\":{\"outlinewidth\":0,\"ticks\":\"\"},\"colorscale\":[[0.0,\"#0d0887\"],[0.1111111111111111,\"#46039f\"],[0.2222222222222222,\"#7201a8\"],[0.3333333333333333,\"#9c179e\"],[0.4444444444444444,\"#bd3786\"],[0.5555555555555556,\"#d8576b\"],[0.6666666666666666,\"#ed7953\"],[0.7777777777777778,\"#fb9f3a\"],[0.8888888888888888,\"#fdca26\"],[1.0,\"#f0f921\"]]}],\"surface\":[{\"type\":\"surface\",\"colorbar\":{\"outlinewidth\":0,\"ticks\":\"\"},\"colorscale\":[[0.0,\"#0d0887\"],[0.1111111111111111,\"#46039f\"],[0.2222222222222222,\"#7201a8\"],[0.3333333333333333,\"#9c179e\"],[0.4444444444444444,\"#bd3786\"],[0.5555555555555556,\"#d8576b\"],[0.6666666666666666,\"#ed7953\"],[0.7777777777777778,\"#fb9f3a\"],[0.8888888888888888,\"#fdca26\"],[1.0,\"#f0f921\"]]}],\"mesh3d\":[{\"type\":\"mesh3d\",\"colorbar\":{\"outlinewidth\":0,\"ticks\":\"\"}}],\"scatter\":[{\"fillpattern\":{\"fillmode\":\"overlay\",\"size\":10,\"solidity\":0.2},\"type\":\"scatter\"}],\"parcoords\":[{\"type\":\"parcoords\",\"line\":{\"colorbar\":{\"outlinewidth\":0,\"ticks\":\"\"}}}],\"scatterpolargl\":[{\"type\":\"scatterpolargl\",\"marker\":{\"colorbar\":{\"outlinewidth\":0,\"ticks\":\"\"}}}],\"bar\":[{\"error_x\":{\"color\":\"#2a3f5f\"},\"error_y\":{\"color\":\"#2a3f5f\"},\"marker\":{\"line\":{\"color\":\"#E5ECF6\",\"width\":0.5},\"pattern\":{\"fillmode\":\"overlay\",\"size\":10,\"solidity\":0.2}},\"type\":\"bar\"}],\"scattergeo\":[{\"type\":\"scattergeo\",\"marker\":{\"colorbar\":{\"outlinewidth\":0,\"ticks\":\"\"}}}],\"scatterpolar\":[{\"type\":\"scatterpolar\",\"marker\":{\"colorbar\":{\"outlinewidth\":0,\"ticks\":\"\"}}}],\"histogram\":[{\"marker\":{\"pattern\":{\"fillmode\":\"overlay\",\"size\":10,\"solidity\":0.2}},\"type\":\"histogram\"}],\"scattergl\":[{\"type\":\"scattergl\",\"marker\":{\"colorbar\":{\"outlinewidth\":0,\"ticks\":\"\"}}}],\"scatter3d\":[{\"type\":\"scatter3d\",\"line\":{\"colorbar\":{\"outlinewidth\":0,\"ticks\":\"\"}},\"marker\":{\"colorbar\":{\"outlinewidth\":0,\"ticks\":\"\"}}}],\"scattermapbox\":[{\"type\":\"scattermapbox\",\"marker\":{\"colorbar\":{\"outlinewidth\":0,\"ticks\":\"\"}}}],\"scatterternary\":[{\"type\":\"scatterternary\",\"marker\":{\"colorbar\":{\"outlinewidth\":0,\"ticks\":\"\"}}}],\"scattercarpet\":[{\"type\":\"scattercarpet\",\"marker\":{\"colorbar\":{\"outlinewidth\":0,\"ticks\":\"\"}}}],\"carpet\":[{\"aaxis\":{\"endlinecolor\":\"#2a3f5f\",\"gridcolor\":\"white\",\"linecolor\":\"white\",\"minorgridcolor\":\"white\",\"startlinecolor\":\"#2a3f5f\"},\"baxis\":{\"endlinecolor\":\"#2a3f5f\",\"gridcolor\":\"white\",\"linecolor\":\"white\",\"minorgridcolor\":\"white\",\"startlinecolor\":\"#2a3f5f\"},\"type\":\"carpet\"}],\"table\":[{\"cells\":{\"fill\":{\"color\":\"#EBF0F8\"},\"line\":{\"color\":\"white\"}},\"header\":{\"fill\":{\"color\":\"#C8D4E3\"},\"line\":{\"color\":\"white\"}},\"type\":\"table\"}],\"barpolar\":[{\"marker\":{\"line\":{\"color\":\"#E5ECF6\",\"width\":0.5},\"pattern\":{\"fillmode\":\"overlay\",\"size\":10,\"solidity\":0.2}},\"type\":\"barpolar\"}],\"pie\":[{\"automargin\":true,\"type\":\"pie\"}]},\"layout\":{\"autotypenumbers\":\"strict\",\"colorway\":[\"#636efa\",\"#EF553B\",\"#00cc96\",\"#ab63fa\",\"#FFA15A\",\"#19d3f3\",\"#FF6692\",\"#B6E880\",\"#FF97FF\",\"#FECB52\"],\"font\":{\"color\":\"#2a3f5f\"},\"hovermode\":\"closest\",\"hoverlabel\":{\"align\":\"left\"},\"paper_bgcolor\":\"white\",\"plot_bgcolor\":\"#E5ECF6\",\"polar\":{\"bgcolor\":\"#E5ECF6\",\"angularaxis\":{\"gridcolor\":\"white\",\"linecolor\":\"white\",\"ticks\":\"\"},\"radialaxis\":{\"gridcolor\":\"white\",\"linecolor\":\"white\",\"ticks\":\"\"}},\"ternary\":{\"bgcolor\":\"#E5ECF6\",\"aaxis\":{\"gridcolor\":\"white\",\"linecolor\":\"white\",\"ticks\":\"\"},\"baxis\":{\"gridcolor\":\"white\",\"linecolor\":\"white\",\"ticks\":\"\"},\"caxis\":{\"gridcolor\":\"white\",\"linecolor\":\"white\",\"ticks\":\"\"}},\"coloraxis\":{\"colorbar\":{\"outlinewidth\":0,\"ticks\":\"\"}},\"colorscale\":{\"sequential\":[[0.0,\"#0d0887\"],[0.1111111111111111,\"#46039f\"],[0.2222222222222222,\"#7201a8\"],[0.3333333333333333,\"#9c179e\"],[0.4444444444444444,\"#bd3786\"],[0.5555555555555556,\"#d8576b\"],[0.6666666666666666,\"#ed7953\"],[0.7777777777777778,\"#fb9f3a\"],[0.8888888888888888,\"#fdca26\"],[1.0,\"#f0f921\"]],\"sequentialminus\":[[0.0,\"#0d0887\"],[0.1111111111111111,\"#46039f\"],[0.2222222222222222,\"#7201a8\"],[0.3333333333333333,\"#9c179e\"],[0.4444444444444444,\"#bd3786\"],[0.5555555555555556,\"#d8576b\"],[0.6666666666666666,\"#ed7953\"],[0.7777777777777778,\"#fb9f3a\"],[0.8888888888888888,\"#fdca26\"],[1.0,\"#f0f921\"]],\"diverging\":[[0,\"#8e0152\"],[0.1,\"#c51b7d\"],[0.2,\"#de77ae\"],[0.3,\"#f1b6da\"],[0.4,\"#fde0ef\"],[0.5,\"#f7f7f7\"],[0.6,\"#e6f5d0\"],[0.7,\"#b8e186\"],[0.8,\"#7fbc41\"],[0.9,\"#4d9221\"],[1,\"#276419\"]]},\"xaxis\":{\"gridcolor\":\"white\",\"linecolor\":\"white\",\"ticks\":\"\",\"title\":{\"standoff\":15},\"zerolinecolor\":\"white\",\"automargin\":true,\"zerolinewidth\":2},\"yaxis\":{\"gridcolor\":\"white\",\"linecolor\":\"white\",\"ticks\":\"\",\"title\":{\"standoff\":15},\"zerolinecolor\":\"white\",\"automargin\":true,\"zerolinewidth\":2},\"scene\":{\"xaxis\":{\"backgroundcolor\":\"#E5ECF6\",\"gridcolor\":\"white\",\"linecolor\":\"white\",\"showbackground\":true,\"ticks\":\"\",\"zerolinecolor\":\"white\",\"gridwidth\":2},\"yaxis\":{\"backgroundcolor\":\"#E5ECF6\",\"gridcolor\":\"white\",\"linecolor\":\"white\",\"showbackground\":true,\"ticks\":\"\",\"zerolinecolor\":\"white\",\"gridwidth\":2},\"zaxis\":{\"backgroundcolor\":\"#E5ECF6\",\"gridcolor\":\"white\",\"linecolor\":\"white\",\"showbackground\":true,\"ticks\":\"\",\"zerolinecolor\":\"white\",\"gridwidth\":2}},\"shapedefaults\":{\"line\":{\"color\":\"#2a3f5f\"}},\"annotationdefaults\":{\"arrowcolor\":\"#2a3f5f\",\"arrowhead\":0,\"arrowwidth\":1},\"geo\":{\"bgcolor\":\"white\",\"landcolor\":\"#E5ECF6\",\"subunitcolor\":\"white\",\"showland\":true,\"showlakes\":true,\"lakecolor\":\"white\"},\"title\":{\"x\":0.05},\"mapbox\":{\"style\":\"light\"}}},\"xaxis\":{\"anchor\":\"y\",\"domain\":[0.0,1.0],\"title\":{\"text\":\"BodyPart\"}},\"yaxis\":{\"anchor\":\"x\",\"domain\":[0.0,1.0],\"title\":{\"text\":\"index\"}},\"coloraxis\":{\"colorbar\":{\"title\":{\"text\":\"index\"}},\"colorscale\":[[0.0,\"#0d0887\"],[0.1111111111111111,\"#46039f\"],[0.2222222222222222,\"#7201a8\"],[0.3333333333333333,\"#9c179e\"],[0.4444444444444444,\"#bd3786\"],[0.5555555555555556,\"#d8576b\"],[0.6666666666666666,\"#ed7953\"],[0.7777777777777778,\"#fb9f3a\"],[0.8888888888888888,\"#fdca26\"],[1.0,\"#f0f921\"]]},\"legend\":{\"tracegroupgap\":0},\"margin\":{\"t\":60},\"barmode\":\"relative\"},                        {\"responsive\": true}                    ).then(function(){\n",
       "                            \n",
       "var gd = document.getElementById('88b8c9c1-3881-4a25-845e-470e5de492a0');\n",
       "var x = new MutationObserver(function (mutations, observer) {{\n",
       "        var display = window.getComputedStyle(gd).display;\n",
       "        if (!display || display === 'none') {{\n",
       "            console.log([gd, 'removed!']);\n",
       "            Plotly.purge(gd);\n",
       "            observer.disconnect();\n",
       "        }}\n",
       "}});\n",
       "\n",
       "// Listen for the removal of the full notebook cells\n",
       "var notebookContainer = gd.closest('#notebook-container');\n",
       "if (notebookContainer) {{\n",
       "    x.observe(notebookContainer, {childList: true});\n",
       "}}\n",
       "\n",
       "// Listen for the clearing of the current output cell\n",
       "var outputEl = gd.closest('.output');\n",
       "if (outputEl) {{\n",
       "    x.observe(outputEl, {childList: true});\n",
       "}}\n",
       "\n",
       "                        })                };                });            </script>        </div>"
      ]
     },
     "metadata": {},
     "output_type": "display_data"
    }
   ],
   "source": [
    "beginner_bodyOnly = body_only.groupby(['BodyPart']).count()\n",
    "beginner_bodyOnly= beginner_bodyOnly.sort_values(by='index')\n",
    "fig = px.bar(beginner_bodyOnly, x=beginner_bodyOnly.index, y='index', color ='index')\n",
    "fig.show()"
   ]
  },
  {
   "cell_type": "markdown",
   "id": "6206d7cd",
   "metadata": {
    "papermill": {
     "duration": 0.013415,
     "end_time": "2023-02-04T10:12:56.690687",
     "exception": false,
     "start_time": "2023-02-04T10:12:56.677272",
     "status": "completed"
    },
    "tags": []
   },
   "source": [
    "The Chest has the most amount of body weight exercises whereas biceps has the lowest. Interestingly, the neck is not even in the bottom 8."
   ]
  },
  {
   "cell_type": "code",
   "execution_count": 11,
   "id": "d902cf78",
   "metadata": {
    "execution": {
     "iopub.execute_input": "2023-02-04T10:12:56.720103Z",
     "iopub.status.busy": "2023-02-04T10:12:56.719678Z",
     "iopub.status.idle": "2023-02-04T10:12:56.742640Z",
     "shell.execute_reply": "2023-02-04T10:12:56.741530Z"
    },
    "papermill": {
     "duration": 0.040902,
     "end_time": "2023-02-04T10:12:56.745268",
     "exception": false,
     "start_time": "2023-02-04T10:12:56.704366",
     "status": "completed"
    },
    "tags": []
   },
   "outputs": [
    {
     "data": {
      "text/html": [
       "<div>\n",
       "<style scoped>\n",
       "    .dataframe tbody tr th:only-of-type {\n",
       "        vertical-align: middle;\n",
       "    }\n",
       "\n",
       "    .dataframe tbody tr th {\n",
       "        vertical-align: top;\n",
       "    }\n",
       "\n",
       "    .dataframe thead th {\n",
       "        text-align: right;\n",
       "    }\n",
       "</style>\n",
       "<table border=\"1\" class=\"dataframe\">\n",
       "  <thead>\n",
       "    <tr style=\"text-align: right;\">\n",
       "      <th></th>\n",
       "      <th></th>\n",
       "      <th>index</th>\n",
       "      <th>Title</th>\n",
       "      <th>Desc</th>\n",
       "      <th>Equipment</th>\n",
       "      <th>Level</th>\n",
       "      <th>Rating</th>\n",
       "      <th>RatingDesc</th>\n",
       "    </tr>\n",
       "    <tr>\n",
       "      <th>Type</th>\n",
       "      <th>BodyPart</th>\n",
       "      <th></th>\n",
       "      <th></th>\n",
       "      <th></th>\n",
       "      <th></th>\n",
       "      <th></th>\n",
       "      <th></th>\n",
       "      <th></th>\n",
       "    </tr>\n",
       "  </thead>\n",
       "  <tbody>\n",
       "    <tr>\n",
       "      <th rowspan=\"5\" valign=\"top\">Cardio</th>\n",
       "      <th>Abdominals</th>\n",
       "      <td>2</td>\n",
       "      <td>2</td>\n",
       "      <td>0</td>\n",
       "      <td>2</td>\n",
       "      <td>2</td>\n",
       "      <td>0</td>\n",
       "      <td>0</td>\n",
       "    </tr>\n",
       "    <tr>\n",
       "      <th>Calves</th>\n",
       "      <td>1</td>\n",
       "      <td>1</td>\n",
       "      <td>0</td>\n",
       "      <td>1</td>\n",
       "      <td>1</td>\n",
       "      <td>0</td>\n",
       "      <td>0</td>\n",
       "    </tr>\n",
       "    <tr>\n",
       "      <th>Chest</th>\n",
       "      <td>1</td>\n",
       "      <td>1</td>\n",
       "      <td>0</td>\n",
       "      <td>1</td>\n",
       "      <td>1</td>\n",
       "      <td>0</td>\n",
       "      <td>0</td>\n",
       "    </tr>\n",
       "    <tr>\n",
       "      <th>Hamstrings</th>\n",
       "      <td>1</td>\n",
       "      <td>1</td>\n",
       "      <td>1</td>\n",
       "      <td>1</td>\n",
       "      <td>1</td>\n",
       "      <td>1</td>\n",
       "      <td>1</td>\n",
       "    </tr>\n",
       "    <tr>\n",
       "      <th>Middle Back</th>\n",
       "      <td>1</td>\n",
       "      <td>1</td>\n",
       "      <td>1</td>\n",
       "      <td>1</td>\n",
       "      <td>1</td>\n",
       "      <td>1</td>\n",
       "      <td>1</td>\n",
       "    </tr>\n",
       "    <tr>\n",
       "      <th>...</th>\n",
       "      <th>...</th>\n",
       "      <td>...</td>\n",
       "      <td>...</td>\n",
       "      <td>...</td>\n",
       "      <td>...</td>\n",
       "      <td>...</td>\n",
       "      <td>...</td>\n",
       "      <td>...</td>\n",
       "    </tr>\n",
       "    <tr>\n",
       "      <th rowspan=\"5\" valign=\"top\">Strongman</th>\n",
       "      <th>Forearms</th>\n",
       "      <td>2</td>\n",
       "      <td>2</td>\n",
       "      <td>1</td>\n",
       "      <td>2</td>\n",
       "      <td>2</td>\n",
       "      <td>2</td>\n",
       "      <td>2</td>\n",
       "    </tr>\n",
       "    <tr>\n",
       "      <th>Hamstrings</th>\n",
       "      <td>1</td>\n",
       "      <td>1</td>\n",
       "      <td>0</td>\n",
       "      <td>1</td>\n",
       "      <td>1</td>\n",
       "      <td>1</td>\n",
       "      <td>1</td>\n",
       "    </tr>\n",
       "    <tr>\n",
       "      <th>Lower Back</th>\n",
       "      <td>4</td>\n",
       "      <td>4</td>\n",
       "      <td>0</td>\n",
       "      <td>4</td>\n",
       "      <td>4</td>\n",
       "      <td>4</td>\n",
       "      <td>4</td>\n",
       "    </tr>\n",
       "    <tr>\n",
       "      <th>Quadriceps</th>\n",
       "      <td>10</td>\n",
       "      <td>10</td>\n",
       "      <td>3</td>\n",
       "      <td>10</td>\n",
       "      <td>10</td>\n",
       "      <td>10</td>\n",
       "      <td>8</td>\n",
       "    </tr>\n",
       "    <tr>\n",
       "      <th>Shoulders</th>\n",
       "      <td>4</td>\n",
       "      <td>4</td>\n",
       "      <td>0</td>\n",
       "      <td>4</td>\n",
       "      <td>4</td>\n",
       "      <td>4</td>\n",
       "      <td>4</td>\n",
       "    </tr>\n",
       "  </tbody>\n",
       "</table>\n",
       "<p>65 rows × 7 columns</p>\n",
       "</div>"
      ],
      "text/plain": [
       "                       index  Title  Desc  Equipment  Level  Rating  \\\n",
       "Type      BodyPart                                                    \n",
       "Cardio    Abdominals       2      2     0          2      2       0   \n",
       "          Calves           1      1     0          1      1       0   \n",
       "          Chest            1      1     0          1      1       0   \n",
       "          Hamstrings       1      1     1          1      1       1   \n",
       "          Middle Back      1      1     1          1      1       1   \n",
       "...                      ...    ...   ...        ...    ...     ...   \n",
       "Strongman Forearms         2      2     1          2      2       2   \n",
       "          Hamstrings       1      1     0          1      1       1   \n",
       "          Lower Back       4      4     0          4      4       4   \n",
       "          Quadriceps      10     10     3         10     10      10   \n",
       "          Shoulders        4      4     0          4      4       4   \n",
       "\n",
       "                       RatingDesc  \n",
       "Type      BodyPart                 \n",
       "Cardio    Abdominals            0  \n",
       "          Calves                0  \n",
       "          Chest                 0  \n",
       "          Hamstrings            1  \n",
       "          Middle Back           1  \n",
       "...                           ...  \n",
       "Strongman Forearms              2  \n",
       "          Hamstrings            1  \n",
       "          Lower Back            4  \n",
       "          Quadriceps            8  \n",
       "          Shoulders             4  \n",
       "\n",
       "[65 rows x 7 columns]"
      ]
     },
     "execution_count": 11,
     "metadata": {},
     "output_type": "execute_result"
    }
   ],
   "source": [
    "bodyPart_dist=gym_data.groupby(['Type','BodyPart']).count()\n",
    "bodyPart_dist"
   ]
  },
  {
   "cell_type": "code",
   "execution_count": 12,
   "id": "490ea5f4",
   "metadata": {
    "execution": {
     "iopub.execute_input": "2023-02-04T10:12:56.775356Z",
     "iopub.status.busy": "2023-02-04T10:12:56.774973Z",
     "iopub.status.idle": "2023-02-04T10:12:56.801090Z",
     "shell.execute_reply": "2023-02-04T10:12:56.800031Z"
    },
    "papermill": {
     "duration": 0.044244,
     "end_time": "2023-02-04T10:12:56.803609",
     "exception": false,
     "start_time": "2023-02-04T10:12:56.759365",
     "status": "completed"
    },
    "tags": []
   },
   "outputs": [
    {
     "data": {
      "text/html": [
       "<div>\n",
       "<style scoped>\n",
       "    .dataframe tbody tr th:only-of-type {\n",
       "        vertical-align: middle;\n",
       "    }\n",
       "\n",
       "    .dataframe tbody tr th {\n",
       "        vertical-align: top;\n",
       "    }\n",
       "\n",
       "    .dataframe thead th {\n",
       "        text-align: right;\n",
       "    }\n",
       "</style>\n",
       "<table border=\"1\" class=\"dataframe\">\n",
       "  <thead>\n",
       "    <tr style=\"text-align: right;\">\n",
       "      <th></th>\n",
       "      <th></th>\n",
       "      <th>index</th>\n",
       "      <th>Title</th>\n",
       "      <th>Desc</th>\n",
       "      <th>Equipment</th>\n",
       "      <th>Level</th>\n",
       "      <th>Rating</th>\n",
       "      <th>RatingDesc</th>\n",
       "    </tr>\n",
       "    <tr>\n",
       "      <th>Type</th>\n",
       "      <th>BodyPart</th>\n",
       "      <th></th>\n",
       "      <th></th>\n",
       "      <th></th>\n",
       "      <th></th>\n",
       "      <th></th>\n",
       "      <th></th>\n",
       "      <th></th>\n",
       "    </tr>\n",
       "  </thead>\n",
       "  <tbody>\n",
       "    <tr>\n",
       "      <th rowspan=\"5\" valign=\"top\">Cardio</th>\n",
       "      <th>Abdominals</th>\n",
       "      <td>2</td>\n",
       "      <td>2</td>\n",
       "      <td>0</td>\n",
       "      <td>2</td>\n",
       "      <td>2</td>\n",
       "      <td>0</td>\n",
       "      <td>0</td>\n",
       "    </tr>\n",
       "    <tr>\n",
       "      <th>Calves</th>\n",
       "      <td>1</td>\n",
       "      <td>1</td>\n",
       "      <td>0</td>\n",
       "      <td>1</td>\n",
       "      <td>1</td>\n",
       "      <td>0</td>\n",
       "      <td>0</td>\n",
       "    </tr>\n",
       "    <tr>\n",
       "      <th>Chest</th>\n",
       "      <td>1</td>\n",
       "      <td>1</td>\n",
       "      <td>0</td>\n",
       "      <td>1</td>\n",
       "      <td>1</td>\n",
       "      <td>0</td>\n",
       "      <td>0</td>\n",
       "    </tr>\n",
       "    <tr>\n",
       "      <th>Hamstrings</th>\n",
       "      <td>1</td>\n",
       "      <td>1</td>\n",
       "      <td>1</td>\n",
       "      <td>1</td>\n",
       "      <td>1</td>\n",
       "      <td>1</td>\n",
       "      <td>1</td>\n",
       "    </tr>\n",
       "    <tr>\n",
       "      <th>Middle Back</th>\n",
       "      <td>1</td>\n",
       "      <td>1</td>\n",
       "      <td>1</td>\n",
       "      <td>1</td>\n",
       "      <td>1</td>\n",
       "      <td>1</td>\n",
       "      <td>1</td>\n",
       "    </tr>\n",
       "    <tr>\n",
       "      <th>...</th>\n",
       "      <th>...</th>\n",
       "      <td>...</td>\n",
       "      <td>...</td>\n",
       "      <td>...</td>\n",
       "      <td>...</td>\n",
       "      <td>...</td>\n",
       "      <td>...</td>\n",
       "      <td>...</td>\n",
       "    </tr>\n",
       "    <tr>\n",
       "      <th rowspan=\"5\" valign=\"top\">Strongman</th>\n",
       "      <th>Forearms</th>\n",
       "      <td>2</td>\n",
       "      <td>2</td>\n",
       "      <td>1</td>\n",
       "      <td>2</td>\n",
       "      <td>2</td>\n",
       "      <td>2</td>\n",
       "      <td>2</td>\n",
       "    </tr>\n",
       "    <tr>\n",
       "      <th>Hamstrings</th>\n",
       "      <td>1</td>\n",
       "      <td>1</td>\n",
       "      <td>0</td>\n",
       "      <td>1</td>\n",
       "      <td>1</td>\n",
       "      <td>1</td>\n",
       "      <td>1</td>\n",
       "    </tr>\n",
       "    <tr>\n",
       "      <th>Lower Back</th>\n",
       "      <td>4</td>\n",
       "      <td>4</td>\n",
       "      <td>0</td>\n",
       "      <td>4</td>\n",
       "      <td>4</td>\n",
       "      <td>4</td>\n",
       "      <td>4</td>\n",
       "    </tr>\n",
       "    <tr>\n",
       "      <th>Quadriceps</th>\n",
       "      <td>10</td>\n",
       "      <td>10</td>\n",
       "      <td>3</td>\n",
       "      <td>10</td>\n",
       "      <td>10</td>\n",
       "      <td>10</td>\n",
       "      <td>8</td>\n",
       "    </tr>\n",
       "    <tr>\n",
       "      <th>Shoulders</th>\n",
       "      <td>4</td>\n",
       "      <td>4</td>\n",
       "      <td>0</td>\n",
       "      <td>4</td>\n",
       "      <td>4</td>\n",
       "      <td>4</td>\n",
       "      <td>4</td>\n",
       "    </tr>\n",
       "  </tbody>\n",
       "</table>\n",
       "<p>65 rows × 7 columns</p>\n",
       "</div>"
      ],
      "text/plain": [
       "                       index  Title  Desc  Equipment  Level  Rating  \\\n",
       "Type      BodyPart                                                    \n",
       "Cardio    Abdominals       2      2     0          2      2       0   \n",
       "          Calves           1      1     0          1      1       0   \n",
       "          Chest            1      1     0          1      1       0   \n",
       "          Hamstrings       1      1     1          1      1       1   \n",
       "          Middle Back      1      1     1          1      1       1   \n",
       "...                      ...    ...   ...        ...    ...     ...   \n",
       "Strongman Forearms         2      2     1          2      2       2   \n",
       "          Hamstrings       1      1     0          1      1       1   \n",
       "          Lower Back       4      4     0          4      4       4   \n",
       "          Quadriceps      10     10     3         10     10      10   \n",
       "          Shoulders        4      4     0          4      4       4   \n",
       "\n",
       "                       RatingDesc  \n",
       "Type      BodyPart                 \n",
       "Cardio    Abdominals            0  \n",
       "          Calves                0  \n",
       "          Chest                 0  \n",
       "          Hamstrings            1  \n",
       "          Middle Back           1  \n",
       "...                           ...  \n",
       "Strongman Forearms              2  \n",
       "          Hamstrings            1  \n",
       "          Lower Back            4  \n",
       "          Quadriceps            8  \n",
       "          Shoulders             4  \n",
       "\n",
       "[65 rows x 7 columns]"
      ]
     },
     "execution_count": 12,
     "metadata": {},
     "output_type": "execute_result"
    }
   ],
   "source": [
    "bodyPart_dist=bodyPart_dist.groupby(level=[0,1]).sum()\n",
    "bodyPart_dist"
   ]
  },
  {
   "cell_type": "code",
   "execution_count": 13,
   "id": "bf470c8a",
   "metadata": {
    "execution": {
     "iopub.execute_input": "2023-02-04T10:12:56.834809Z",
     "iopub.status.busy": "2023-02-04T10:12:56.833822Z",
     "iopub.status.idle": "2023-02-04T10:12:56.841736Z",
     "shell.execute_reply": "2023-02-04T10:12:56.840621Z"
    },
    "papermill": {
     "duration": 0.025775,
     "end_time": "2023-02-04T10:12:56.844244",
     "exception": false,
     "start_time": "2023-02-04T10:12:56.818469",
     "status": "completed"
    },
    "tags": []
   },
   "outputs": [
    {
     "data": {
      "text/plain": [
       "7"
      ]
     },
     "execution_count": 13,
     "metadata": {},
     "output_type": "execute_result"
    }
   ],
   "source": [
    "allTypes =(gym_data[\"Type\"].unique())\n",
    "len(allTypes)"
   ]
  },
  {
   "cell_type": "code",
   "execution_count": 14,
   "id": "7d201ff8",
   "metadata": {
    "execution": {
     "iopub.execute_input": "2023-02-04T10:12:56.875745Z",
     "iopub.status.busy": "2023-02-04T10:12:56.874612Z",
     "iopub.status.idle": "2023-02-04T10:12:56.882581Z",
     "shell.execute_reply": "2023-02-04T10:12:56.881783Z"
    },
    "papermill": {
     "duration": 0.025989,
     "end_time": "2023-02-04T10:12:56.884913",
     "exception": false,
     "start_time": "2023-02-04T10:12:56.858924",
     "status": "completed"
    },
    "tags": []
   },
   "outputs": [],
   "source": [
    "typeDfs = []\n",
    "for i in range(7):\n",
    "    typeDfs.append(bodyPart_dist.iloc[bodyPart_dist.index.get_level_values('Type') == allTypes[i]])\n"
   ]
  },
  {
   "cell_type": "code",
   "execution_count": 15,
   "id": "414b261f",
   "metadata": {
    "execution": {
     "iopub.execute_input": "2023-02-04T10:12:56.915708Z",
     "iopub.status.busy": "2023-02-04T10:12:56.915026Z",
     "iopub.status.idle": "2023-02-04T10:12:56.921127Z",
     "shell.execute_reply": "2023-02-04T10:12:56.920256Z"
    },
    "papermill": {
     "duration": 0.023679,
     "end_time": "2023-02-04T10:12:56.923165",
     "exception": false,
     "start_time": "2023-02-04T10:12:56.899486",
     "status": "completed"
    },
    "tags": []
   },
   "outputs": [],
   "source": [
    "cardio =bodyPart_dist.iloc[bodyPart_dist.index.get_level_values('Type') == 'Cardio']"
   ]
  },
  {
   "cell_type": "code",
   "execution_count": 16,
   "id": "519c8f2e",
   "metadata": {
    "execution": {
     "iopub.execute_input": "2023-02-04T10:12:56.954076Z",
     "iopub.status.busy": "2023-02-04T10:12:56.953157Z",
     "iopub.status.idle": "2023-02-04T10:12:57.031430Z",
     "shell.execute_reply": "2023-02-04T10:12:57.030335Z"
    },
    "papermill": {
     "duration": 0.096693,
     "end_time": "2023-02-04T10:12:57.034248",
     "exception": false,
     "start_time": "2023-02-04T10:12:56.937555",
     "status": "completed"
    },
    "tags": []
   },
   "outputs": [
    {
     "data": {
      "text/html": [
       "<div>                            <div id=\"e4b17f40-eb09-47f2-85e1-fe0f8b6cd2c5\" class=\"plotly-graph-div\" style=\"height:1200px; width:100%;\"></div>            <script type=\"text/javascript\">                require([\"plotly\"], function(Plotly) {                    window.PLOTLYENV=window.PLOTLYENV || {};                                    if (document.getElementById(\"e4b17f40-eb09-47f2-85e1-fe0f8b6cd2c5\")) {                    Plotly.newPlot(                        \"e4b17f40-eb09-47f2-85e1-fe0f8b6cd2c5\",                        [{\"labels\":[[\"Strength\",\"Abdominals\"],[\"Strength\",\"Abductors\"],[\"Strength\",\"Adductors\"],[\"Strength\",\"Biceps\"],[\"Strength\",\"Calves\"],[\"Strength\",\"Chest\"],[\"Strength\",\"Forearms\"],[\"Strength\",\"Glutes\"],[\"Strength\",\"Hamstrings\"],[\"Strength\",\"Lats\"],[\"Strength\",\"Lower Back\"],[\"Strength\",\"Middle Back\"],[\"Strength\",\"Neck\"],[\"Strength\",\"Quadriceps\"],[\"Strength\",\"Shoulders\"],[\"Strength\",\"Traps\"],[\"Strength\",\"Triceps\"]],\"marker\":{\"colors\":[\"#100b\",\"#f00560\"],\"line\":{\"color\":\"#FFFFFF\",\"width\":2.5}},\"title\":{\"text\":\"Strength\"},\"values\":[644,12,6,165,33,239,27,67,65,113,73,113,6,516,305,22,139],\"type\":\"pie\",\"domain\":{\"x\":[0.0,0.45],\"y\":[0.80625,1.0]}},{\"labels\":[[\"Plyometrics\",\"Abdominals\"],[\"Plyometrics\",\"Adductors\"],[\"Plyometrics\",\"Chest\"],[\"Plyometrics\",\"Hamstrings\"],[\"Plyometrics\",\"Lats\"],[\"Plyometrics\",\"Quadriceps\"],[\"Plyometrics\",\"Shoulders\"],[\"Plyometrics\",\"Triceps\"]],\"marker\":{\"colors\":[\"#100b\",\"#f00560\"],\"line\":{\"color\":\"#FFFFFF\",\"width\":2.5}},\"title\":{\"text\":\"Plyometrics\"},\"values\":[6,4,15,9,3,53,6,1],\"type\":\"pie\",\"domain\":{\"x\":[0.55,1.0],\"y\":[0.80625,1.0]}},{\"labels\":[[\"Cardio\",\"Abdominals\"],[\"Cardio\",\"Calves\"],[\"Cardio\",\"Chest\"],[\"Cardio\",\"Hamstrings\"],[\"Cardio\",\"Middle Back\"],[\"Cardio\",\"Quadriceps\"],[\"Cardio\",\"Shoulders\"]],\"marker\":{\"colors\":[\"#100b\",\"#f00560\"],\"line\":{\"color\":\"#FFFFFF\",\"width\":2.5}},\"title\":{\"text\":\"Cardio\"},\"values\":[2,1,1,1,1,27,2],\"type\":\"pie\",\"domain\":{\"x\":[0.0,0.45],\"y\":[0.5375,0.73125]}},{\"labels\":[[\"Stretching\",\"Abdominals\"],[\"Stretching\",\"Abductors\"],[\"Stretching\",\"Adductors\"],[\"Stretching\",\"Biceps\"],[\"Stretching\",\"Calves\"],[\"Stretching\",\"Chest\"],[\"Stretching\",\"Forearms\"],[\"Stretching\",\"Glutes\"],[\"Stretching\",\"Hamstrings\"],[\"Stretching\",\"Lats\"],[\"Stretching\",\"Lower Back\"],[\"Stretching\",\"Middle Back\"],[\"Stretching\",\"Neck\"],[\"Stretching\",\"Quadriceps\"],[\"Stretching\",\"Shoulders\"],[\"Stretching\",\"Triceps\"]],\"marker\":{\"colors\":[\"#100b\",\"#f00560\"],\"line\":{\"color\":\"#FFFFFF\",\"width\":2.5}},\"title\":{\"text\":\"Stretching\"},\"values\":[10,9,7,3,13,3,2,9,25,8,13,4,2,18,18,3],\"type\":\"pie\",\"domain\":{\"x\":[0.55,1.0],\"y\":[0.5375,0.73125]}},{\"labels\":[[\"Powerlifting\",\"Chest\"],[\"Powerlifting\",\"Glutes\"],[\"Powerlifting\",\"Hamstrings\"],[\"Powerlifting\",\"Lower Back\"],[\"Powerlifting\",\"Quadriceps\"],[\"Powerlifting\",\"Triceps\"]],\"marker\":{\"colors\":[\"#100b\",\"#f00560\"],\"line\":{\"color\":\"#FFFFFF\",\"width\":2.5}},\"title\":{\"text\":\"Powerlifting\"},\"values\":[3,4,9,7,6,8],\"type\":\"pie\",\"domain\":{\"x\":[0.0,0.45],\"y\":[0.26875,0.4625]}},{\"labels\":[[\"Strongman\",\"Chest\"],[\"Strongman\",\"Forearms\"],[\"Strongman\",\"Hamstrings\"],[\"Strongman\",\"Lower Back\"],[\"Strongman\",\"Quadriceps\"],[\"Strongman\",\"Shoulders\"]],\"marker\":{\"colors\":[\"#100b\",\"#f00560\"],\"line\":{\"color\":\"#FFFFFF\",\"width\":2.5}},\"title\":{\"text\":\"Strongman\"},\"values\":[1,2,1,4,10,4],\"type\":\"pie\",\"domain\":{\"x\":[0.55,1.0],\"y\":[0.26875,0.4625]}},{\"labels\":[[\"Olympic Weightlifting\",\"Glutes\"],[\"Olympic Weightlifting\",\"Hamstrings\"],[\"Olympic Weightlifting\",\"Quadriceps\"],[\"Olympic Weightlifting\",\"Shoulders\"],[\"Olympic Weightlifting\",\"Traps\"]],\"marker\":{\"colors\":[\"#100b\",\"#f00560\"],\"line\":{\"width\":2.5}},\"title\":{\"text\":\"Olympic Weightlifting\"},\"values\":[1,11,16,5,2],\"type\":\"pie\",\"domain\":{\"x\":[0.0,0.45],\"y\":[0.0,0.19375]}}],                        {\"template\":{\"data\":{\"histogram2dcontour\":[{\"type\":\"histogram2dcontour\",\"colorbar\":{\"outlinewidth\":0,\"ticks\":\"\"},\"colorscale\":[[0.0,\"#0d0887\"],[0.1111111111111111,\"#46039f\"],[0.2222222222222222,\"#7201a8\"],[0.3333333333333333,\"#9c179e\"],[0.4444444444444444,\"#bd3786\"],[0.5555555555555556,\"#d8576b\"],[0.6666666666666666,\"#ed7953\"],[0.7777777777777778,\"#fb9f3a\"],[0.8888888888888888,\"#fdca26\"],[1.0,\"#f0f921\"]]}],\"choropleth\":[{\"type\":\"choropleth\",\"colorbar\":{\"outlinewidth\":0,\"ticks\":\"\"}}],\"histogram2d\":[{\"type\":\"histogram2d\",\"colorbar\":{\"outlinewidth\":0,\"ticks\":\"\"},\"colorscale\":[[0.0,\"#0d0887\"],[0.1111111111111111,\"#46039f\"],[0.2222222222222222,\"#7201a8\"],[0.3333333333333333,\"#9c179e\"],[0.4444444444444444,\"#bd3786\"],[0.5555555555555556,\"#d8576b\"],[0.6666666666666666,\"#ed7953\"],[0.7777777777777778,\"#fb9f3a\"],[0.8888888888888888,\"#fdca26\"],[1.0,\"#f0f921\"]]}],\"heatmap\":[{\"type\":\"heatmap\",\"colorbar\":{\"outlinewidth\":0,\"ticks\":\"\"},\"colorscale\":[[0.0,\"#0d0887\"],[0.1111111111111111,\"#46039f\"],[0.2222222222222222,\"#7201a8\"],[0.3333333333333333,\"#9c179e\"],[0.4444444444444444,\"#bd3786\"],[0.5555555555555556,\"#d8576b\"],[0.6666666666666666,\"#ed7953\"],[0.7777777777777778,\"#fb9f3a\"],[0.8888888888888888,\"#fdca26\"],[1.0,\"#f0f921\"]]}],\"heatmapgl\":[{\"type\":\"heatmapgl\",\"colorbar\":{\"outlinewidth\":0,\"ticks\":\"\"},\"colorscale\":[[0.0,\"#0d0887\"],[0.1111111111111111,\"#46039f\"],[0.2222222222222222,\"#7201a8\"],[0.3333333333333333,\"#9c179e\"],[0.4444444444444444,\"#bd3786\"],[0.5555555555555556,\"#d8576b\"],[0.6666666666666666,\"#ed7953\"],[0.7777777777777778,\"#fb9f3a\"],[0.8888888888888888,\"#fdca26\"],[1.0,\"#f0f921\"]]}],\"contourcarpet\":[{\"type\":\"contourcarpet\",\"colorbar\":{\"outlinewidth\":0,\"ticks\":\"\"}}],\"contour\":[{\"type\":\"contour\",\"colorbar\":{\"outlinewidth\":0,\"ticks\":\"\"},\"colorscale\":[[0.0,\"#0d0887\"],[0.1111111111111111,\"#46039f\"],[0.2222222222222222,\"#7201a8\"],[0.3333333333333333,\"#9c179e\"],[0.4444444444444444,\"#bd3786\"],[0.5555555555555556,\"#d8576b\"],[0.6666666666666666,\"#ed7953\"],[0.7777777777777778,\"#fb9f3a\"],[0.8888888888888888,\"#fdca26\"],[1.0,\"#f0f921\"]]}],\"surface\":[{\"type\":\"surface\",\"colorbar\":{\"outlinewidth\":0,\"ticks\":\"\"},\"colorscale\":[[0.0,\"#0d0887\"],[0.1111111111111111,\"#46039f\"],[0.2222222222222222,\"#7201a8\"],[0.3333333333333333,\"#9c179e\"],[0.4444444444444444,\"#bd3786\"],[0.5555555555555556,\"#d8576b\"],[0.6666666666666666,\"#ed7953\"],[0.7777777777777778,\"#fb9f3a\"],[0.8888888888888888,\"#fdca26\"],[1.0,\"#f0f921\"]]}],\"mesh3d\":[{\"type\":\"mesh3d\",\"colorbar\":{\"outlinewidth\":0,\"ticks\":\"\"}}],\"scatter\":[{\"fillpattern\":{\"fillmode\":\"overlay\",\"size\":10,\"solidity\":0.2},\"type\":\"scatter\"}],\"parcoords\":[{\"type\":\"parcoords\",\"line\":{\"colorbar\":{\"outlinewidth\":0,\"ticks\":\"\"}}}],\"scatterpolargl\":[{\"type\":\"scatterpolargl\",\"marker\":{\"colorbar\":{\"outlinewidth\":0,\"ticks\":\"\"}}}],\"bar\":[{\"error_x\":{\"color\":\"#2a3f5f\"},\"error_y\":{\"color\":\"#2a3f5f\"},\"marker\":{\"line\":{\"color\":\"#E5ECF6\",\"width\":0.5},\"pattern\":{\"fillmode\":\"overlay\",\"size\":10,\"solidity\":0.2}},\"type\":\"bar\"}],\"scattergeo\":[{\"type\":\"scattergeo\",\"marker\":{\"colorbar\":{\"outlinewidth\":0,\"ticks\":\"\"}}}],\"scatterpolar\":[{\"type\":\"scatterpolar\",\"marker\":{\"colorbar\":{\"outlinewidth\":0,\"ticks\":\"\"}}}],\"histogram\":[{\"marker\":{\"pattern\":{\"fillmode\":\"overlay\",\"size\":10,\"solidity\":0.2}},\"type\":\"histogram\"}],\"scattergl\":[{\"type\":\"scattergl\",\"marker\":{\"colorbar\":{\"outlinewidth\":0,\"ticks\":\"\"}}}],\"scatter3d\":[{\"type\":\"scatter3d\",\"line\":{\"colorbar\":{\"outlinewidth\":0,\"ticks\":\"\"}},\"marker\":{\"colorbar\":{\"outlinewidth\":0,\"ticks\":\"\"}}}],\"scattermapbox\":[{\"type\":\"scattermapbox\",\"marker\":{\"colorbar\":{\"outlinewidth\":0,\"ticks\":\"\"}}}],\"scatterternary\":[{\"type\":\"scatterternary\",\"marker\":{\"colorbar\":{\"outlinewidth\":0,\"ticks\":\"\"}}}],\"scattercarpet\":[{\"type\":\"scattercarpet\",\"marker\":{\"colorbar\":{\"outlinewidth\":0,\"ticks\":\"\"}}}],\"carpet\":[{\"aaxis\":{\"endlinecolor\":\"#2a3f5f\",\"gridcolor\":\"white\",\"linecolor\":\"white\",\"minorgridcolor\":\"white\",\"startlinecolor\":\"#2a3f5f\"},\"baxis\":{\"endlinecolor\":\"#2a3f5f\",\"gridcolor\":\"white\",\"linecolor\":\"white\",\"minorgridcolor\":\"white\",\"startlinecolor\":\"#2a3f5f\"},\"type\":\"carpet\"}],\"table\":[{\"cells\":{\"fill\":{\"color\":\"#EBF0F8\"},\"line\":{\"color\":\"white\"}},\"header\":{\"fill\":{\"color\":\"#C8D4E3\"},\"line\":{\"color\":\"white\"}},\"type\":\"table\"}],\"barpolar\":[{\"marker\":{\"line\":{\"color\":\"#E5ECF6\",\"width\":0.5},\"pattern\":{\"fillmode\":\"overlay\",\"size\":10,\"solidity\":0.2}},\"type\":\"barpolar\"}],\"pie\":[{\"automargin\":true,\"type\":\"pie\"}]},\"layout\":{\"autotypenumbers\":\"strict\",\"colorway\":[\"#636efa\",\"#EF553B\",\"#00cc96\",\"#ab63fa\",\"#FFA15A\",\"#19d3f3\",\"#FF6692\",\"#B6E880\",\"#FF97FF\",\"#FECB52\"],\"font\":{\"color\":\"#2a3f5f\"},\"hovermode\":\"closest\",\"hoverlabel\":{\"align\":\"left\"},\"paper_bgcolor\":\"white\",\"plot_bgcolor\":\"#E5ECF6\",\"polar\":{\"bgcolor\":\"#E5ECF6\",\"angularaxis\":{\"gridcolor\":\"white\",\"linecolor\":\"white\",\"ticks\":\"\"},\"radialaxis\":{\"gridcolor\":\"white\",\"linecolor\":\"white\",\"ticks\":\"\"}},\"ternary\":{\"bgcolor\":\"#E5ECF6\",\"aaxis\":{\"gridcolor\":\"white\",\"linecolor\":\"white\",\"ticks\":\"\"},\"baxis\":{\"gridcolor\":\"white\",\"linecolor\":\"white\",\"ticks\":\"\"},\"caxis\":{\"gridcolor\":\"white\",\"linecolor\":\"white\",\"ticks\":\"\"}},\"coloraxis\":{\"colorbar\":{\"outlinewidth\":0,\"ticks\":\"\"}},\"colorscale\":{\"sequential\":[[0.0,\"#0d0887\"],[0.1111111111111111,\"#46039f\"],[0.2222222222222222,\"#7201a8\"],[0.3333333333333333,\"#9c179e\"],[0.4444444444444444,\"#bd3786\"],[0.5555555555555556,\"#d8576b\"],[0.6666666666666666,\"#ed7953\"],[0.7777777777777778,\"#fb9f3a\"],[0.8888888888888888,\"#fdca26\"],[1.0,\"#f0f921\"]],\"sequentialminus\":[[0.0,\"#0d0887\"],[0.1111111111111111,\"#46039f\"],[0.2222222222222222,\"#7201a8\"],[0.3333333333333333,\"#9c179e\"],[0.4444444444444444,\"#bd3786\"],[0.5555555555555556,\"#d8576b\"],[0.6666666666666666,\"#ed7953\"],[0.7777777777777778,\"#fb9f3a\"],[0.8888888888888888,\"#fdca26\"],[1.0,\"#f0f921\"]],\"diverging\":[[0,\"#8e0152\"],[0.1,\"#c51b7d\"],[0.2,\"#de77ae\"],[0.3,\"#f1b6da\"],[0.4,\"#fde0ef\"],[0.5,\"#f7f7f7\"],[0.6,\"#e6f5d0\"],[0.7,\"#b8e186\"],[0.8,\"#7fbc41\"],[0.9,\"#4d9221\"],[1,\"#276419\"]]},\"xaxis\":{\"gridcolor\":\"white\",\"linecolor\":\"white\",\"ticks\":\"\",\"title\":{\"standoff\":15},\"zerolinecolor\":\"white\",\"automargin\":true,\"zerolinewidth\":2},\"yaxis\":{\"gridcolor\":\"white\",\"linecolor\":\"white\",\"ticks\":\"\",\"title\":{\"standoff\":15},\"zerolinecolor\":\"white\",\"automargin\":true,\"zerolinewidth\":2},\"scene\":{\"xaxis\":{\"backgroundcolor\":\"#E5ECF6\",\"gridcolor\":\"white\",\"linecolor\":\"white\",\"showbackground\":true,\"ticks\":\"\",\"zerolinecolor\":\"white\",\"gridwidth\":2},\"yaxis\":{\"backgroundcolor\":\"#E5ECF6\",\"gridcolor\":\"white\",\"linecolor\":\"white\",\"showbackground\":true,\"ticks\":\"\",\"zerolinecolor\":\"white\",\"gridwidth\":2},\"zaxis\":{\"backgroundcolor\":\"#E5ECF6\",\"gridcolor\":\"white\",\"linecolor\":\"white\",\"showbackground\":true,\"ticks\":\"\",\"zerolinecolor\":\"white\",\"gridwidth\":2}},\"shapedefaults\":{\"line\":{\"color\":\"#2a3f5f\"}},\"annotationdefaults\":{\"arrowcolor\":\"#2a3f5f\",\"arrowhead\":0,\"arrowwidth\":1},\"geo\":{\"bgcolor\":\"white\",\"landcolor\":\"#E5ECF6\",\"subunitcolor\":\"white\",\"showland\":true,\"showlakes\":true,\"lakecolor\":\"white\"},\"title\":{\"x\":0.05},\"mapbox\":{\"style\":\"light\"}}},\"height\":1200,\"showlegend\":false},                        {\"responsive\": true}                    ).then(function(){\n",
       "                            \n",
       "var gd = document.getElementById('e4b17f40-eb09-47f2-85e1-fe0f8b6cd2c5');\n",
       "var x = new MutationObserver(function (mutations, observer) {{\n",
       "        var display = window.getComputedStyle(gd).display;\n",
       "        if (!display || display === 'none') {{\n",
       "            console.log([gd, 'removed!']);\n",
       "            Plotly.purge(gd);\n",
       "            observer.disconnect();\n",
       "        }}\n",
       "}});\n",
       "\n",
       "// Listen for the removal of the full notebook cells\n",
       "var notebookContainer = gd.closest('#notebook-container');\n",
       "if (notebookContainer) {{\n",
       "    x.observe(notebookContainer, {childList: true});\n",
       "}}\n",
       "\n",
       "// Listen for the clearing of the current output cell\n",
       "var outputEl = gd.closest('.output');\n",
       "if (outputEl) {{\n",
       "    x.observe(outputEl, {childList: true});\n",
       "}}\n",
       "\n",
       "                        })                };                });            </script>        </div>"
      ]
     },
     "metadata": {},
     "output_type": "display_data"
    }
   ],
   "source": [
    "from plotly.subplots import make_subplots\n",
    "import plotly.graph_objects as go\n",
    "\n",
    "fig = make_subplots(\n",
    "    rows=4, cols=2,\n",
    "    specs=[[{\"type\": \"domain\"},{\"type\": \"domain\"}],\n",
    "           [{\"type\": \"domain\"},{\"type\": \"domain\"}],\n",
    "           [{\"type\": \"domain\"},{\"type\": \"domain\"}],\n",
    "           [{\"type\": \"domain\"},{\"type\": \"domain\"}],\n",
    "          ])\n",
    "\n",
    "fig.add_trace(go.Pie(values=typeDfs[0]['index'].values, title=allTypes[0], labels=typeDfs[0].index,marker=dict(colors=['#100b','#f00560'], line=dict(color='#FFFFFF', width=2.5))),\n",
    "              row=1, col=1)\n",
    "    \n",
    "fig.add_trace(go.Pie(values=typeDfs[1]['index'].values, title=allTypes[1], labels=typeDfs[1].index,marker=dict(colors=['#100b','#f00560'], line=dict(color='#FFFFFF', width=2.5))),\n",
    "              row=1, col=2)\n",
    "fig.add_trace(go.Pie(values=typeDfs[2]['index'].values, title=allTypes[2], labels=typeDfs[2].index,marker=dict(colors=['#100b','#f00560'], line=dict(color='#FFFFFF', width=2.5))),\n",
    "              row=2, col=1)\n",
    "fig.add_trace(go.Pie(values=typeDfs[3]['index'].values, title=allTypes[3],labels=typeDfs[3].index,marker=dict(colors=['#100b','#f00560'], line=dict(color='#FFFFFF', width=2.5))),\n",
    "              row=2, col=2)\n",
    "fig.add_trace(go.Pie(values=typeDfs[4]['index'].values, title=allTypes[4], labels=typeDfs[4].index,marker=dict(colors=['#100b','#f00560'], line=dict(color='#FFFFFF', width=2.5))),\n",
    "              row=3, col=1)\n",
    "fig.add_trace(go.Pie(values=typeDfs[5]['index'].values, title=allTypes[5], labels=typeDfs[5].index,marker=dict(colors=['#100b','#f00560'], line=dict(color='#FFFFFF', width=2.5))),\n",
    "              row=3, col=2)\n",
    "fig.add_trace(go.Pie(values=typeDfs[6]['index'].values, title=allTypes[6], labels=typeDfs[6].index,marker=dict(colors=['#100b','#f00560'], line=dict( width=2.5))),\n",
    "              row=4, col=1)\n",
    "fig.update_layout(height=900, showlegend=False)\n",
    "fig.update_layout(height=1200, showlegend=False)"
   ]
  },
  {
   "cell_type": "markdown",
   "id": "f4dac699",
   "metadata": {
    "papermill": {
     "duration": 0.014206,
     "end_time": "2023-02-04T10:12:57.063248",
     "exception": false,
     "start_time": "2023-02-04T10:12:57.049042",
     "status": "completed"
    },
    "tags": []
   },
   "source": [
    "From the above plots and pie charts, the following is deduced:\n",
    "* Almost 70% of cardio exercises target the quadriceps.\n",
    "* Distribution of amount of exercises is very uniform in stretching.\n",
    "* Powerlifting workouts mainly target only the triceps, lower back, quads,chest, glutes and hamstrings. This can be a be a reason why most power lifting do not have six pack abs and a defined upper back. Same can be deduced for Olympic Weightlifting.\n",
    "* Cardio does not hit any arm related muscles.\n",
    "* Plyometric targets chest and quads a lot which makes sense because of the control factor required to do these exercises."
   ]
  },
  {
   "cell_type": "markdown",
   "id": "6601d2a9",
   "metadata": {
    "papermill": {
     "duration": 0.014127,
     "end_time": "2023-02-04T10:12:57.091942",
     "exception": false,
     "start_time": "2023-02-04T10:12:57.077815",
     "status": "completed"
    },
    "tags": []
   },
   "source": [
    "# Top Rated Exercises"
   ]
  },
  {
   "cell_type": "code",
   "execution_count": 17,
   "id": "352eee74",
   "metadata": {
    "execution": {
     "iopub.execute_input": "2023-02-04T10:12:57.123800Z",
     "iopub.status.busy": "2023-02-04T10:12:57.123009Z",
     "iopub.status.idle": "2023-02-04T10:12:58.290246Z",
     "shell.execute_reply": "2023-02-04T10:12:58.288946Z"
    },
    "papermill": {
     "duration": 1.187344,
     "end_time": "2023-02-04T10:12:58.294318",
     "exception": false,
     "start_time": "2023-02-04T10:12:57.106974",
     "status": "completed"
    },
    "tags": []
   },
   "outputs": [
    {
     "data": {
      "image/png": "[encoded data removed]",
      "text/plain": [
       "<Figure size 936x936 with 1 Axes>"
      ]
     },
     "metadata": {
      "needs_background": "light"
     },
     "output_type": "display_data"
    }
   ],
   "source": [
    "import matplotlib.pyplot as plt\n",
    "from wordcloud import WordCloud, STOPWORDS, ImageColorGenerator\n",
    "import seaborn as sns\n",
    "\n",
    "text = gym_data[\"BodyPart\"].unique()\n",
    "\n",
    "wordcloud = WordCloud(max_words=1000000,background_color=\"black\").generate(str(text))\n",
    "plt.rcParams['figure.figsize'] = (13, 13)\n",
    "plt.imshow(wordcloud,interpolation=\"bilinear\")\n",
    "plt.axis(\"off\")\n",
    "plt.show()"
   ]
  },
  {
   "cell_type": "code",
   "execution_count": 18,
   "id": "ce75e783",
   "metadata": {
    "execution": {
     "iopub.execute_input": "2023-02-04T10:12:58.332130Z",
     "iopub.status.busy": "2023-02-04T10:12:58.331703Z",
     "iopub.status.idle": "2023-02-04T10:12:58.351640Z",
     "shell.execute_reply": "2023-02-04T10:12:58.350475Z"
    },
    "papermill": {
     "duration": 0.042383,
     "end_time": "2023-02-04T10:12:58.354364",
     "exception": false,
     "start_time": "2023-02-04T10:12:58.311981",
     "status": "completed"
    },
    "tags": []
   },
   "outputs": [
    {
     "data": {
      "text/html": [
       "<div>\n",
       "<style scoped>\n",
       "    .dataframe tbody tr th:only-of-type {\n",
       "        vertical-align: middle;\n",
       "    }\n",
       "\n",
       "    .dataframe tbody tr th {\n",
       "        vertical-align: top;\n",
       "    }\n",
       "\n",
       "    .dataframe thead th {\n",
       "        text-align: right;\n",
       "    }\n",
       "</style>\n",
       "<table border=\"1\" class=\"dataframe\">\n",
       "  <thead>\n",
       "    <tr style=\"text-align: right;\">\n",
       "      <th></th>\n",
       "      <th>index</th>\n",
       "      <th>Title</th>\n",
       "      <th>Desc</th>\n",
       "      <th>Type</th>\n",
       "      <th>BodyPart</th>\n",
       "      <th>Equipment</th>\n",
       "      <th>Level</th>\n",
       "      <th>Rating</th>\n",
       "      <th>RatingDesc</th>\n",
       "    </tr>\n",
       "  </thead>\n",
       "  <tbody>\n",
       "    <tr>\n",
       "      <th>2065</th>\n",
       "      <td>2065</td>\n",
       "      <td>Single-Leg Press</td>\n",
       "      <td>The single-leg leg press is an exercise target...</td>\n",
       "      <td>Strength</td>\n",
       "      <td>Quadriceps</td>\n",
       "      <td>Machine</td>\n",
       "      <td>Intermediate</td>\n",
       "      <td>9.6</td>\n",
       "      <td>Average</td>\n",
       "    </tr>\n",
       "    <tr>\n",
       "      <th>1195</th>\n",
       "      <td>1195</td>\n",
       "      <td>Rickshaw Carry</td>\n",
       "      <td>NaN</td>\n",
       "      <td>Strongman</td>\n",
       "      <td>Forearms</td>\n",
       "      <td>Other</td>\n",
       "      <td>Beginner</td>\n",
       "      <td>9.6</td>\n",
       "      <td>Average</td>\n",
       "    </tr>\n",
       "    <tr>\n",
       "      <th>1179</th>\n",
       "      <td>1179</td>\n",
       "      <td>Palms-down wrist curl over bench</td>\n",
       "      <td>The palms-down wrist curl over bench is an exe...</td>\n",
       "      <td>Strength</td>\n",
       "      <td>Forearms</td>\n",
       "      <td>Barbell</td>\n",
       "      <td>Intermediate</td>\n",
       "      <td>9.5</td>\n",
       "      <td>Average</td>\n",
       "    </tr>\n",
       "    <tr>\n",
       "      <th>2525</th>\n",
       "      <td>2525</td>\n",
       "      <td>Dumbbell front raise to lateral raise</td>\n",
       "      <td>The dumbbell front raise to lateral raise is a...</td>\n",
       "      <td>Strength</td>\n",
       "      <td>Shoulders</td>\n",
       "      <td>Dumbbell</td>\n",
       "      <td>Intermediate</td>\n",
       "      <td>9.5</td>\n",
       "      <td>Average</td>\n",
       "    </tr>\n",
       "    <tr>\n",
       "      <th>1577</th>\n",
       "      <td>1577</td>\n",
       "      <td>Atlas Stones</td>\n",
       "      <td>NaN</td>\n",
       "      <td>Strongman</td>\n",
       "      <td>Lower Back</td>\n",
       "      <td>Other</td>\n",
       "      <td>Intermediate</td>\n",
       "      <td>9.5</td>\n",
       "      <td>Average</td>\n",
       "    </tr>\n",
       "    <tr>\n",
       "      <th>731</th>\n",
       "      <td>731</td>\n",
       "      <td>Incline Hammer Curls</td>\n",
       "      <td>NaN</td>\n",
       "      <td>Strength</td>\n",
       "      <td>Biceps</td>\n",
       "      <td>Dumbbell</td>\n",
       "      <td>Beginner</td>\n",
       "      <td>9.5</td>\n",
       "      <td>Average</td>\n",
       "    </tr>\n",
       "    <tr>\n",
       "      <th>88</th>\n",
       "      <td>88</td>\n",
       "      <td>Landmine twist</td>\n",
       "      <td>The landmine twist is a rotational abdominal m...</td>\n",
       "      <td>Strength</td>\n",
       "      <td>Abdominals</td>\n",
       "      <td>Other</td>\n",
       "      <td>Intermediate</td>\n",
       "      <td>9.5</td>\n",
       "      <td>Average</td>\n",
       "    </tr>\n",
       "    <tr>\n",
       "      <th>1798</th>\n",
       "      <td>1798</td>\n",
       "      <td>Clean from Blocks</td>\n",
       "      <td>NaN</td>\n",
       "      <td>Olympic Weightlifting</td>\n",
       "      <td>Quadriceps</td>\n",
       "      <td>Barbell</td>\n",
       "      <td>Beginner</td>\n",
       "      <td>9.5</td>\n",
       "      <td>Average</td>\n",
       "    </tr>\n",
       "    <tr>\n",
       "      <th>1451</th>\n",
       "      <td>1451</td>\n",
       "      <td>Weighted pull-up</td>\n",
       "      <td>The weighted pull-up is a more advanced variat...</td>\n",
       "      <td>Strength</td>\n",
       "      <td>Lats</td>\n",
       "      <td>Other</td>\n",
       "      <td>Intermediate</td>\n",
       "      <td>9.5</td>\n",
       "      <td>Average</td>\n",
       "    </tr>\n",
       "    <tr>\n",
       "      <th>1695</th>\n",
       "      <td>1695</td>\n",
       "      <td>T-Bar Row with Handle</td>\n",
       "      <td>NaN</td>\n",
       "      <td>Strength</td>\n",
       "      <td>Middle Back</td>\n",
       "      <td>Other</td>\n",
       "      <td>Intermediate</td>\n",
       "      <td>9.5</td>\n",
       "      <td>Average</td>\n",
       "    </tr>\n",
       "  </tbody>\n",
       "</table>\n",
       "</div>"
      ],
      "text/plain": [
       "      index                                  Title  \\\n",
       "2065   2065                       Single-Leg Press   \n",
       "1195   1195                         Rickshaw Carry   \n",
       "1179   1179       Palms-down wrist curl over bench   \n",
       "2525   2525  Dumbbell front raise to lateral raise   \n",
       "1577   1577                           Atlas Stones   \n",
       "731     731                   Incline Hammer Curls   \n",
       "88       88                         Landmine twist   \n",
       "1798   1798                      Clean from Blocks   \n",
       "1451   1451                       Weighted pull-up   \n",
       "1695   1695                  T-Bar Row with Handle   \n",
       "\n",
       "                                                   Desc  \\\n",
       "2065  The single-leg leg press is an exercise target...   \n",
       "1195                                                NaN   \n",
       "1179  The palms-down wrist curl over bench is an exe...   \n",
       "2525  The dumbbell front raise to lateral raise is a...   \n",
       "1577                                                NaN   \n",
       "731                                                 NaN   \n",
       "88    The landmine twist is a rotational abdominal m...   \n",
       "1798                                                NaN   \n",
       "1451  The weighted pull-up is a more advanced variat...   \n",
       "1695                                                NaN   \n",
       "\n",
       "                       Type     BodyPart Equipment         Level  Rating  \\\n",
       "2065               Strength   Quadriceps   Machine  Intermediate     9.6   \n",
       "1195              Strongman     Forearms     Other      Beginner     9.6   \n",
       "1179               Strength     Forearms   Barbell  Intermediate     9.5   \n",
       "2525               Strength    Shoulders  Dumbbell  Intermediate     9.5   \n",
       "1577              Strongman   Lower Back     Other  Intermediate     9.5   \n",
       "731                Strength       Biceps  Dumbbell      Beginner     9.5   \n",
       "88                 Strength   Abdominals     Other  Intermediate     9.5   \n",
       "1798  Olympic Weightlifting   Quadriceps   Barbell      Beginner     9.5   \n",
       "1451               Strength         Lats     Other  Intermediate     9.5   \n",
       "1695               Strength  Middle Back     Other  Intermediate     9.5   \n",
       "\n",
       "     RatingDesc  \n",
       "2065    Average  \n",
       "1195    Average  \n",
       "1179    Average  \n",
       "2525    Average  \n",
       "1577    Average  \n",
       "731     Average  \n",
       "88      Average  \n",
       "1798    Average  \n",
       "1451    Average  \n",
       "1695    Average  "
      ]
     },
     "execution_count": 18,
     "metadata": {},
     "output_type": "execute_result"
    }
   ],
   "source": [
    "ratingSorted= gym_data.sort_values(by='Rating',ascending=False)\n",
    "ratingSorted =ratingSorted.head(10)\n",
    "ratingSorted"
   ]
  },
  {
   "cell_type": "markdown",
   "id": "72a7bdcd",
   "metadata": {
    "papermill": {
     "duration": 0.017189,
     "end_time": "2023-02-04T10:12:58.389562",
     "exception": false,
     "start_time": "2023-02-04T10:12:58.372373",
     "status": "completed"
    },
    "tags": []
   },
   "source": [
    "The top rated exercise is the Single Leg Press followed by Rickshaw Carry and Palms-down wrist curl over bench. It's surprising to see two forearm exercises in the top 3 as most often then not forearms are not trained with a lot of focus. Other than those, dumbbell front to lateral raise, atlas stones and incline hammer curls also are rated 9.5. Weighted pull-ups are at the 9th place."
   ]
  },
  {
   "cell_type": "markdown",
   "id": "e6c63c77",
   "metadata": {
    "papermill": {
     "duration": 0.018324,
     "end_time": "2023-02-04T10:12:58.425754",
     "exception": false,
     "start_time": "2023-02-04T10:12:58.407430",
     "status": "completed"
    },
    "tags": []
   },
   "source": [
    "**Lets check out top rated power lifting exercises**"
   ]
  },
  {
   "cell_type": "code",
   "execution_count": 19,
   "id": "a97d3141",
   "metadata": {
    "execution": {
     "iopub.execute_input": "2023-02-04T10:12:58.462773Z",
     "iopub.status.busy": "2023-02-04T10:12:58.462361Z",
     "iopub.status.idle": "2023-02-04T10:12:58.715299Z",
     "shell.execute_reply": "2023-02-04T10:12:58.714017Z"
    },
    "papermill": {
     "duration": 0.274934,
     "end_time": "2023-02-04T10:12:58.718038",
     "exception": false,
     "start_time": "2023-02-04T10:12:58.443104",
     "status": "completed"
    },
    "tags": []
   },
   "outputs": [
    {
     "data": {
      "text/plain": [
       "<BarContainer object of 10 artists>"
      ]
     },
     "execution_count": 19,
     "metadata": {},
     "output_type": "execute_result"
    },
    {
     "data": {
      "image/png": "[encoded data removed]",
      "text/plain": [
       "<Figure size 936x936 with 1 Axes>"
      ]
     },
     "metadata": {
      "needs_background": "light"
     },
     "output_type": "display_data"
    }
   ],
   "source": [
    "ratingSorted= gym_data[gym_data['Type']=='Powerlifting'].sort_values(by='Rating',ascending=False)\n",
    "ratingSorted =ratingSorted.head(10)\n",
    "plt.bar(ratingSorted.Rating, ratingSorted.Title,color='royalblue', alpha=0.7)"
   ]
  },
  {
   "cell_type": "markdown",
   "id": "5fc2255f",
   "metadata": {
    "papermill": {
     "duration": 0.018498,
     "end_time": "2023-02-04T10:12:58.756113",
     "exception": false,
     "start_time": "2023-02-04T10:12:58.737615",
     "status": "completed"
    },
    "tags": []
   },
   "source": [
    "Barbell deficit deadlifts, glute brides and dumbbell floor press are the top rated powerlifting exercises. Barbell squat to box makes it to the top 5 but is not in the top 3."
   ]
  },
  {
   "cell_type": "markdown",
   "id": "55571dea",
   "metadata": {
    "papermill": {
     "duration": 0.017772,
     "end_time": "2023-02-04T10:12:58.792368",
     "exception": false,
     "start_time": "2023-02-04T10:12:58.774596",
     "status": "completed"
    },
    "tags": []
   },
   "source": [
    "**Top Rated Stretching exercises**"
   ]
  },
  {
   "cell_type": "code",
   "execution_count": 20,
   "id": "dbdb4422",
   "metadata": {
    "execution": {
     "iopub.execute_input": "2023-02-04T10:12:58.830349Z",
     "iopub.status.busy": "2023-02-04T10:12:58.829944Z",
     "iopub.status.idle": "2023-02-04T10:12:59.058575Z",
     "shell.execute_reply": "2023-02-04T10:12:59.057362Z"
    },
    "papermill": {
     "duration": 0.251656,
     "end_time": "2023-02-04T10:12:59.061657",
     "exception": false,
     "start_time": "2023-02-04T10:12:58.810001",
     "status": "completed"
    },
    "tags": []
   },
   "outputs": [
    {
     "data": {
      "text/plain": [
       "<BarContainer object of 10 artists>"
      ]
     },
     "execution_count": 20,
     "metadata": {},
     "output_type": "execute_result"
    },
    {
     "data": {
      "image/png": "[encoded data removed]",
      "text/plain": [
       "<Figure size 936x936 with 1 Axes>"
      ]
     },
     "metadata": {
      "needs_background": "light"
     },
     "output_type": "display_data"
    }
   ],
   "source": [
    "rating_stretch= gym_data[gym_data['Type']=='Stretching'].sort_values(by='Rating',ascending=False)\n",
    "rating_stretch =rating_stretch.head(10)\n",
    "plt.bar(rating_stretch.Rating, rating_stretch.Title,color='green')"
   ]
  },
  {
   "cell_type": "markdown",
   "id": "d5e0605f",
   "metadata": {
    "papermill": {
     "duration": 0.018783,
     "end_time": "2023-02-04T10:12:59.099954",
     "exception": false,
     "start_time": "2023-02-04T10:12:59.081171",
     "status": "completed"
    },
    "tags": []
   },
   "source": [
    "**Top rated Plyometrics**"
   ]
  },
  {
   "cell_type": "code",
   "execution_count": 21,
   "id": "0eb0d9b2",
   "metadata": {
    "execution": {
     "iopub.execute_input": "2023-02-04T10:12:59.140838Z",
     "iopub.status.busy": "2023-02-04T10:12:59.139894Z",
     "iopub.status.idle": "2023-02-04T10:12:59.355206Z",
     "shell.execute_reply": "2023-02-04T10:12:59.353589Z"
    },
    "papermill": {
     "duration": 0.23846,
     "end_time": "2023-02-04T10:12:59.357671",
     "exception": false,
     "start_time": "2023-02-04T10:12:59.119211",
     "status": "completed"
    },
    "tags": []
   },
   "outputs": [
    {
     "data": {
      "text/plain": [
       "<BarContainer object of 10 artists>"
      ]
     },
     "execution_count": 21,
     "metadata": {},
     "output_type": "execute_result"
    },
    {
     "data": {
      "image/png": "[encoded data removed]",
      "text/plain": [
       "<Figure size 936x936 with 1 Axes>"
      ]
     },
     "metadata": {
      "needs_background": "light"
     },
     "output_type": "display_data"
    }
   ],
   "source": [
    "rating_plyo= gym_data[gym_data['Type']=='Plyometrics'].sort_values(by='Rating',ascending=False)\n",
    "rating_plyo =rating_plyo.head(10)\n",
    "plt.bar(rating_plyo.Rating, rating_plyo.Title,color='orange')"
   ]
  },
  {
   "cell_type": "markdown",
   "id": "11de1816",
   "metadata": {
    "papermill": {
     "duration": 0.018626,
     "end_time": "2023-02-04T10:12:59.395633",
     "exception": false,
     "start_time": "2023-02-04T10:12:59.377007",
     "status": "completed"
    },
    "tags": []
   },
   "source": [
    "# Percentage of exercises by levels"
   ]
  },
  {
   "cell_type": "code",
   "execution_count": 22,
   "id": "ebd52e8a",
   "metadata": {
    "execution": {
     "iopub.execute_input": "2023-02-04T10:12:59.437519Z",
     "iopub.status.busy": "2023-02-04T10:12:59.436653Z",
     "iopub.status.idle": "2023-02-04T10:12:59.451497Z",
     "shell.execute_reply": "2023-02-04T10:12:59.450394Z"
    },
    "papermill": {
     "duration": 0.038016,
     "end_time": "2023-02-04T10:12:59.453856",
     "exception": false,
     "start_time": "2023-02-04T10:12:59.415840",
     "status": "completed"
    },
    "tags": []
   },
   "outputs": [
    {
     "data": {
      "text/html": [
       "<div>\n",
       "<style scoped>\n",
       "    .dataframe tbody tr th:only-of-type {\n",
       "        vertical-align: middle;\n",
       "    }\n",
       "\n",
       "    .dataframe tbody tr th {\n",
       "        vertical-align: top;\n",
       "    }\n",
       "\n",
       "    .dataframe thead th {\n",
       "        text-align: right;\n",
       "    }\n",
       "</style>\n",
       "<table border=\"1\" class=\"dataframe\">\n",
       "  <thead>\n",
       "    <tr style=\"text-align: right;\">\n",
       "      <th></th>\n",
       "      <th>index</th>\n",
       "      <th>Title</th>\n",
       "      <th>Desc</th>\n",
       "      <th>Type</th>\n",
       "      <th>BodyPart</th>\n",
       "      <th>Equipment</th>\n",
       "      <th>Rating</th>\n",
       "      <th>RatingDesc</th>\n",
       "    </tr>\n",
       "    <tr>\n",
       "      <th>Level</th>\n",
       "      <th></th>\n",
       "      <th></th>\n",
       "      <th></th>\n",
       "      <th></th>\n",
       "      <th></th>\n",
       "      <th></th>\n",
       "      <th></th>\n",
       "      <th></th>\n",
       "    </tr>\n",
       "  </thead>\n",
       "  <tbody>\n",
       "    <tr>\n",
       "      <th>Beginner</th>\n",
       "      <td>459</td>\n",
       "      <td>459</td>\n",
       "      <td>108</td>\n",
       "      <td>459</td>\n",
       "      <td>459</td>\n",
       "      <td>459</td>\n",
       "      <td>459</td>\n",
       "      <td>369</td>\n",
       "    </tr>\n",
       "    <tr>\n",
       "      <th>Expert</th>\n",
       "      <td>13</td>\n",
       "      <td>13</td>\n",
       "      <td>10</td>\n",
       "      <td>13</td>\n",
       "      <td>13</td>\n",
       "      <td>13</td>\n",
       "      <td>7</td>\n",
       "      <td>7</td>\n",
       "    </tr>\n",
       "    <tr>\n",
       "      <th>Intermediate</th>\n",
       "      <td>2446</td>\n",
       "      <td>2446</td>\n",
       "      <td>1250</td>\n",
       "      <td>2446</td>\n",
       "      <td>2446</td>\n",
       "      <td>2446</td>\n",
       "      <td>565</td>\n",
       "      <td>486</td>\n",
       "    </tr>\n",
       "  </tbody>\n",
       "</table>\n",
       "</div>"
      ],
      "text/plain": [
       "              index  Title  Desc  Type  BodyPart  Equipment  Rating  \\\n",
       "Level                                                                 \n",
       "Beginner        459    459   108   459       459        459     459   \n",
       "Expert           13     13    10    13        13         13       7   \n",
       "Intermediate   2446   2446  1250  2446      2446       2446     565   \n",
       "\n",
       "              RatingDesc  \n",
       "Level                     \n",
       "Beginner             369  \n",
       "Expert                 7  \n",
       "Intermediate         486  "
      ]
     },
     "execution_count": 22,
     "metadata": {},
     "output_type": "execute_result"
    }
   ],
   "source": [
    "level_counts=gym_data.groupby(['Level']).count()\n",
    "level_counts"
   ]
  },
  {
   "cell_type": "code",
   "execution_count": 23,
   "id": "4ccc506d",
   "metadata": {
    "execution": {
     "iopub.execute_input": "2023-02-04T10:12:59.496128Z",
     "iopub.status.busy": "2023-02-04T10:12:59.495404Z",
     "iopub.status.idle": "2023-02-04T10:12:59.676216Z",
     "shell.execute_reply": "2023-02-04T10:12:59.674610Z"
    },
    "papermill": {
     "duration": 0.206518,
     "end_time": "2023-02-04T10:12:59.680470",
     "exception": false,
     "start_time": "2023-02-04T10:12:59.473952",
     "status": "completed"
    },
    "tags": []
   },
   "outputs": [
    {
     "data": {
      "image/png": "[encoded data removed]",
      "text/plain": [
       "<Figure size 504x504 with 1 Axes>"
      ]
     },
     "metadata": {},
     "output_type": "display_data"
    },
    {
     "data": {
      "text/plain": [
       "<Figure size 72x72 with 0 Axes>"
      ]
     },
     "metadata": {},
     "output_type": "display_data"
    }
   ],
   "source": [
    "explode = (0, 0.1, 0)  # only \"explode\" the 2nd slice (i.e. 'Hogs')\n",
    "\n",
    "fig1, ax1 = plt.subplots(figsize=(7, 7))\n",
    "ax1.pie(level_counts.Title, explode=explode, labels=level_counts.index, autopct='%1.1f%%',\n",
    "        shadow=True, startangle=90)\n",
    "ax1.axis('equal')  # Equal aspect ratio ensures that pie is drawn as a circle.\n",
    "plt.figure(figsize=(1,1))\n",
    "\n",
    "plt.show()"
   ]
  },
  {
   "cell_type": "markdown",
   "id": "c63a8d68",
   "metadata": {
    "papermill": {
     "duration": 0.019777,
     "end_time": "2023-02-04T10:12:59.748267",
     "exception": false,
     "start_time": "2023-02-04T10:12:59.728490",
     "status": "completed"
    },
    "tags": []
   },
   "source": [
    "There a lot of exercises that can be performed by people who have an Intermediate level of fitness. Only 0.4% of the exercises are those that need to be performed by Experts."
   ]
  },
  {
   "cell_type": "markdown",
   "id": "a61b64a7",
   "metadata": {
    "papermill": {
     "duration": 0.019967,
     "end_time": "2023-02-04T10:12:59.788645",
     "exception": false,
     "start_time": "2023-02-04T10:12:59.768678",
     "status": "completed"
    },
    "tags": []
   },
   "source": [
    "# Analyse wrt Equipment"
   ]
  },
  {
   "cell_type": "code",
   "execution_count": 24,
   "id": "2f7551cb",
   "metadata": {
    "execution": {
     "iopub.execute_input": "2023-02-04T10:12:59.830745Z",
     "iopub.status.busy": "2023-02-04T10:12:59.830058Z",
     "iopub.status.idle": "2023-02-04T10:12:59.849027Z",
     "shell.execute_reply": "2023-02-04T10:12:59.847778Z"
    },
    "papermill": {
     "duration": 0.042953,
     "end_time": "2023-02-04T10:12:59.851526",
     "exception": false,
     "start_time": "2023-02-04T10:12:59.808573",
     "status": "completed"
    },
    "tags": []
   },
   "outputs": [
    {
     "data": {
      "text/html": [
       "<div>\n",
       "<style scoped>\n",
       "    .dataframe tbody tr th:only-of-type {\n",
       "        vertical-align: middle;\n",
       "    }\n",
       "\n",
       "    .dataframe tbody tr th {\n",
       "        vertical-align: top;\n",
       "    }\n",
       "\n",
       "    .dataframe thead th {\n",
       "        text-align: right;\n",
       "    }\n",
       "</style>\n",
       "<table border=\"1\" class=\"dataframe\">\n",
       "  <thead>\n",
       "    <tr style=\"text-align: right;\">\n",
       "      <th></th>\n",
       "      <th>index</th>\n",
       "      <th>Title</th>\n",
       "      <th>Desc</th>\n",
       "      <th>Type</th>\n",
       "      <th>BodyPart</th>\n",
       "      <th>Level</th>\n",
       "      <th>Rating</th>\n",
       "      <th>RatingDesc</th>\n",
       "    </tr>\n",
       "    <tr>\n",
       "      <th>Equipment</th>\n",
       "      <th></th>\n",
       "      <th></th>\n",
       "      <th></th>\n",
       "      <th></th>\n",
       "      <th></th>\n",
       "      <th></th>\n",
       "      <th></th>\n",
       "      <th></th>\n",
       "    </tr>\n",
       "  </thead>\n",
       "  <tbody>\n",
       "    <tr>\n",
       "      <th>Bands</th>\n",
       "      <td>100</td>\n",
       "      <td>100</td>\n",
       "      <td>49</td>\n",
       "      <td>100</td>\n",
       "      <td>100</td>\n",
       "      <td>100</td>\n",
       "      <td>30</td>\n",
       "      <td>20</td>\n",
       "    </tr>\n",
       "    <tr>\n",
       "      <th>Barbell</th>\n",
       "      <td>282</td>\n",
       "      <td>282</td>\n",
       "      <td>161</td>\n",
       "      <td>282</td>\n",
       "      <td>282</td>\n",
       "      <td>282</td>\n",
       "      <td>180</td>\n",
       "      <td>168</td>\n",
       "    </tr>\n",
       "    <tr>\n",
       "      <th>Body Only</th>\n",
       "      <td>1078</td>\n",
       "      <td>1078</td>\n",
       "      <td>404</td>\n",
       "      <td>1078</td>\n",
       "      <td>1078</td>\n",
       "      <td>1078</td>\n",
       "      <td>269</td>\n",
       "      <td>196</td>\n",
       "    </tr>\n",
       "    <tr>\n",
       "      <th>Cable</th>\n",
       "      <td>226</td>\n",
       "      <td>226</td>\n",
       "      <td>149</td>\n",
       "      <td>226</td>\n",
       "      <td>226</td>\n",
       "      <td>226</td>\n",
       "      <td>77</td>\n",
       "      <td>77</td>\n",
       "    </tr>\n",
       "    <tr>\n",
       "      <th>Dumbbell</th>\n",
       "      <td>516</td>\n",
       "      <td>516</td>\n",
       "      <td>246</td>\n",
       "      <td>516</td>\n",
       "      <td>516</td>\n",
       "      <td>516</td>\n",
       "      <td>140</td>\n",
       "      <td>129</td>\n",
       "    </tr>\n",
       "    <tr>\n",
       "      <th>E-Z Curl Bar</th>\n",
       "      <td>22</td>\n",
       "      <td>22</td>\n",
       "      <td>14</td>\n",
       "      <td>22</td>\n",
       "      <td>22</td>\n",
       "      <td>22</td>\n",
       "      <td>11</td>\n",
       "      <td>11</td>\n",
       "    </tr>\n",
       "    <tr>\n",
       "      <th>Exercise Ball</th>\n",
       "      <td>35</td>\n",
       "      <td>35</td>\n",
       "      <td>28</td>\n",
       "      <td>35</td>\n",
       "      <td>35</td>\n",
       "      <td>35</td>\n",
       "      <td>12</td>\n",
       "      <td>11</td>\n",
       "    </tr>\n",
       "    <tr>\n",
       "      <th>Foam Roll</th>\n",
       "      <td>11</td>\n",
       "      <td>11</td>\n",
       "      <td>8</td>\n",
       "      <td>11</td>\n",
       "      <td>11</td>\n",
       "      <td>11</td>\n",
       "      <td>9</td>\n",
       "      <td>9</td>\n",
       "    </tr>\n",
       "    <tr>\n",
       "      <th>Kettlebells</th>\n",
       "      <td>149</td>\n",
       "      <td>149</td>\n",
       "      <td>53</td>\n",
       "      <td>149</td>\n",
       "      <td>149</td>\n",
       "      <td>149</td>\n",
       "      <td>57</td>\n",
       "      <td>39</td>\n",
       "    </tr>\n",
       "    <tr>\n",
       "      <th>Machine</th>\n",
       "      <td>175</td>\n",
       "      <td>175</td>\n",
       "      <td>121</td>\n",
       "      <td>175</td>\n",
       "      <td>175</td>\n",
       "      <td>175</td>\n",
       "      <td>67</td>\n",
       "      <td>65</td>\n",
       "    </tr>\n",
       "    <tr>\n",
       "      <th>Medicine Ball</th>\n",
       "      <td>38</td>\n",
       "      <td>38</td>\n",
       "      <td>25</td>\n",
       "      <td>38</td>\n",
       "      <td>38</td>\n",
       "      <td>38</td>\n",
       "      <td>21</td>\n",
       "      <td>11</td>\n",
       "    </tr>\n",
       "    <tr>\n",
       "      <th>None</th>\n",
       "      <td>32</td>\n",
       "      <td>32</td>\n",
       "      <td>9</td>\n",
       "      <td>32</td>\n",
       "      <td>32</td>\n",
       "      <td>32</td>\n",
       "      <td>29</td>\n",
       "      <td>28</td>\n",
       "    </tr>\n",
       "    <tr>\n",
       "      <th>Other</th>\n",
       "      <td>254</td>\n",
       "      <td>254</td>\n",
       "      <td>101</td>\n",
       "      <td>254</td>\n",
       "      <td>254</td>\n",
       "      <td>254</td>\n",
       "      <td>129</td>\n",
       "      <td>98</td>\n",
       "    </tr>\n",
       "  </tbody>\n",
       "</table>\n",
       "</div>"
      ],
      "text/plain": [
       "               index  Title  Desc  Type  BodyPart  Level  Rating  RatingDesc\n",
       "Equipment                                                                   \n",
       "Bands            100    100    49   100       100    100      30          20\n",
       "Barbell          282    282   161   282       282    282     180         168\n",
       "Body Only       1078   1078   404  1078      1078   1078     269         196\n",
       "Cable            226    226   149   226       226    226      77          77\n",
       "Dumbbell         516    516   246   516       516    516     140         129\n",
       "E-Z Curl Bar      22     22    14    22        22     22      11          11\n",
       "Exercise Ball     35     35    28    35        35     35      12          11\n",
       "Foam Roll         11     11     8    11        11     11       9           9\n",
       "Kettlebells      149    149    53   149       149    149      57          39\n",
       "Machine          175    175   121   175       175    175      67          65\n",
       "Medicine Ball     38     38    25    38        38     38      21          11\n",
       "None              32     32     9    32        32     32      29          28\n",
       "Other            254    254   101   254       254    254     129          98"
      ]
     },
     "execution_count": 24,
     "metadata": {},
     "output_type": "execute_result"
    }
   ],
   "source": [
    "equip_data=gym_data.groupby(['Equipment']).count()\n",
    "equip_data"
   ]
  },
  {
   "cell_type": "code",
   "execution_count": 25,
   "id": "3d42bea0",
   "metadata": {
    "execution": {
     "iopub.execute_input": "2023-02-04T10:12:59.895402Z",
     "iopub.status.busy": "2023-02-04T10:12:59.894956Z",
     "iopub.status.idle": "2023-02-04T10:13:00.183828Z",
     "shell.execute_reply": "2023-02-04T10:13:00.182508Z"
    },
    "papermill": {
     "duration": 0.314117,
     "end_time": "2023-02-04T10:13:00.186536",
     "exception": false,
     "start_time": "2023-02-04T10:12:59.872419",
     "status": "completed"
    },
    "tags": []
   },
   "outputs": [
    {
     "data": {
      "image/png": "[encoded data removed]",
      "text/plain": [
       "<Figure size 936x936 with 1 Axes>"
      ]
     },
     "metadata": {
      "needs_background": "light"
     },
     "output_type": "display_data"
    }
   ],
   "source": [
    "import matplotlib.pyplot as plt\n",
    "\n",
    "fig, ax = plt.subplots()\n",
    "\n",
    "ax.bar(equip_data.index, equip_data.Title)\n",
    "\n",
    "ax.set_ylabel('Count of exercises')\n",
    "ax.set_title('Exercise names')\n",
    "plt.xticks(rotation=45, ha='right')\n",
    "\n",
    "plt.show()"
   ]
  },
  {
   "cell_type": "markdown",
   "id": "fd15c76f",
   "metadata": {
    "papermill": {
     "duration": 0.021724,
     "end_time": "2023-02-04T10:13:00.230536",
     "exception": false,
     "start_time": "2023-02-04T10:13:00.208812",
     "status": "completed"
    },
    "tags": []
   },
   "source": [
    "Its clear that there a lot more body weight exercises than all the others. Dumbbells and Barbells exercises also have a good count over bands and cables."
   ]
  },
  {
   "cell_type": "markdown",
   "id": "b9757a6f",
   "metadata": {
    "papermill": {
     "duration": 0.019961,
     "end_time": "2023-02-04T10:13:00.270940",
     "exception": false,
     "start_time": "2023-02-04T10:13:00.250979",
     "status": "completed"
    },
    "tags": []
   },
   "source": [
    "# **Best exercises to target Legs**"
   ]
  },
  {
   "cell_type": "markdown",
   "id": "d06ba25d",
   "metadata": {
    "papermill": {
     "duration": 0.02002,
     "end_time": "2023-02-04T10:13:00.311228",
     "exception": false,
     "start_time": "2023-02-04T10:13:00.291208",
     "status": "completed"
    },
    "tags": []
   },
   "source": [
    "**Lets analyse quads and glutes.**"
   ]
  },
  {
   "cell_type": "code",
   "execution_count": 26,
   "id": "ae8d6092",
   "metadata": {
    "execution": {
     "iopub.execute_input": "2023-02-04T10:13:00.354360Z",
     "iopub.status.busy": "2023-02-04T10:13:00.353947Z",
     "iopub.status.idle": "2023-02-04T10:13:00.373927Z",
     "shell.execute_reply": "2023-02-04T10:13:00.372887Z"
    },
    "papermill": {
     "duration": 0.044451,
     "end_time": "2023-02-04T10:13:00.376627",
     "exception": false,
     "start_time": "2023-02-04T10:13:00.332176",
     "status": "completed"
    },
    "tags": []
   },
   "outputs": [
    {
     "data": {
      "text/html": [
       "<div>\n",
       "<style scoped>\n",
       "    .dataframe tbody tr th:only-of-type {\n",
       "        vertical-align: middle;\n",
       "    }\n",
       "\n",
       "    .dataframe tbody tr th {\n",
       "        vertical-align: top;\n",
       "    }\n",
       "\n",
       "    .dataframe thead th {\n",
       "        text-align: right;\n",
       "    }\n",
       "</style>\n",
       "<table border=\"1\" class=\"dataframe\">\n",
       "  <thead>\n",
       "    <tr style=\"text-align: right;\">\n",
       "      <th></th>\n",
       "      <th>index</th>\n",
       "      <th>Title</th>\n",
       "      <th>Desc</th>\n",
       "      <th>Type</th>\n",
       "      <th>BodyPart</th>\n",
       "      <th>Equipment</th>\n",
       "      <th>Level</th>\n",
       "      <th>Rating</th>\n",
       "      <th>RatingDesc</th>\n",
       "    </tr>\n",
       "  </thead>\n",
       "  <tbody>\n",
       "    <tr>\n",
       "      <th>2065</th>\n",
       "      <td>2065</td>\n",
       "      <td>Single-Leg Press</td>\n",
       "      <td>The single-leg leg press is an exercise target...</td>\n",
       "      <td>Strength</td>\n",
       "      <td>Quadriceps</td>\n",
       "      <td>Machine</td>\n",
       "      <td>Intermediate</td>\n",
       "      <td>9.6</td>\n",
       "      <td>Average</td>\n",
       "    </tr>\n",
       "    <tr>\n",
       "      <th>1799</th>\n",
       "      <td>1799</td>\n",
       "      <td>Barbell Full Squat</td>\n",
       "      <td>The barbell back squat is a popular compound m...</td>\n",
       "      <td>Strength</td>\n",
       "      <td>Quadriceps</td>\n",
       "      <td>Barbell</td>\n",
       "      <td>Intermediate</td>\n",
       "      <td>9.4</td>\n",
       "      <td>Average</td>\n",
       "    </tr>\n",
       "    <tr>\n",
       "      <th>1804</th>\n",
       "      <td>1804</td>\n",
       "      <td>Barbell walking lunge</td>\n",
       "      <td>The barbell walking lunge tests your ability t...</td>\n",
       "      <td>Strength</td>\n",
       "      <td>Quadriceps</td>\n",
       "      <td>Barbell</td>\n",
       "      <td>Intermediate</td>\n",
       "      <td>9.2</td>\n",
       "      <td>Average</td>\n",
       "    </tr>\n",
       "    <tr>\n",
       "      <th>1872</th>\n",
       "      <td>1872</td>\n",
       "      <td>Front Squats With Two Kettlebells</td>\n",
       "      <td>NaN</td>\n",
       "      <td>Strength</td>\n",
       "      <td>Quadriceps</td>\n",
       "      <td>Kettlebells</td>\n",
       "      <td>Beginner</td>\n",
       "      <td>9.2</td>\n",
       "      <td>Average</td>\n",
       "    </tr>\n",
       "    <tr>\n",
       "      <th>1873</th>\n",
       "      <td>1873</td>\n",
       "      <td>Kettlebell Pistol Squat</td>\n",
       "      <td>NaN</td>\n",
       "      <td>Strength</td>\n",
       "      <td>Quadriceps</td>\n",
       "      <td>Kettlebells</td>\n",
       "      <td>Beginner</td>\n",
       "      <td>9.1</td>\n",
       "      <td>Average</td>\n",
       "    </tr>\n",
       "  </tbody>\n",
       "</table>\n",
       "</div>"
      ],
      "text/plain": [
       "      index                              Title  \\\n",
       "2065   2065                   Single-Leg Press   \n",
       "1799   1799                 Barbell Full Squat   \n",
       "1804   1804              Barbell walking lunge   \n",
       "1872   1872  Front Squats With Two Kettlebells   \n",
       "1873   1873            Kettlebell Pistol Squat   \n",
       "\n",
       "                                                   Desc      Type    BodyPart  \\\n",
       "2065  The single-leg leg press is an exercise target...  Strength  Quadriceps   \n",
       "1799  The barbell back squat is a popular compound m...  Strength  Quadriceps   \n",
       "1804  The barbell walking lunge tests your ability t...  Strength  Quadriceps   \n",
       "1872                                                NaN  Strength  Quadriceps   \n",
       "1873                                                NaN  Strength  Quadriceps   \n",
       "\n",
       "        Equipment         Level  Rating RatingDesc  \n",
       "2065      Machine  Intermediate     9.6    Average  \n",
       "1799      Barbell  Intermediate     9.4    Average  \n",
       "1804      Barbell  Intermediate     9.2    Average  \n",
       "1872  Kettlebells      Beginner     9.2    Average  \n",
       "1873  Kettlebells      Beginner     9.1    Average  "
      ]
     },
     "execution_count": 26,
     "metadata": {},
     "output_type": "execute_result"
    }
   ],
   "source": [
    "leg_exer= gym_data[gym_data['BodyPart']=='Quadriceps'].sort_values(by='Rating',ascending=False)\n",
    "leg_exer_best =leg_exer[leg_exer['Type']=='Strength'].head(5)\n",
    "leg_exer_best"
   ]
  },
  {
   "cell_type": "code",
   "execution_count": 27,
   "id": "3271019f",
   "metadata": {
    "execution": {
     "iopub.execute_input": "2023-02-04T10:13:00.423089Z",
     "iopub.status.busy": "2023-02-04T10:13:00.422150Z",
     "iopub.status.idle": "2023-02-04T10:13:00.441980Z",
     "shell.execute_reply": "2023-02-04T10:13:00.440828Z"
    },
    "papermill": {
     "duration": 0.045444,
     "end_time": "2023-02-04T10:13:00.444507",
     "exception": false,
     "start_time": "2023-02-04T10:13:00.399063",
     "status": "completed"
    },
    "tags": []
   },
   "outputs": [
    {
     "data": {
      "text/html": [
       "<div>\n",
       "<style scoped>\n",
       "    .dataframe tbody tr th:only-of-type {\n",
       "        vertical-align: middle;\n",
       "    }\n",
       "\n",
       "    .dataframe tbody tr th {\n",
       "        vertical-align: top;\n",
       "    }\n",
       "\n",
       "    .dataframe thead th {\n",
       "        text-align: right;\n",
       "    }\n",
       "</style>\n",
       "<table border=\"1\" class=\"dataframe\">\n",
       "  <thead>\n",
       "    <tr style=\"text-align: right;\">\n",
       "      <th></th>\n",
       "      <th>index</th>\n",
       "      <th>Title</th>\n",
       "      <th>Desc</th>\n",
       "      <th>Type</th>\n",
       "      <th>BodyPart</th>\n",
       "      <th>Equipment</th>\n",
       "      <th>Level</th>\n",
       "      <th>Rating</th>\n",
       "      <th>RatingDesc</th>\n",
       "    </tr>\n",
       "  </thead>\n",
       "  <tbody>\n",
       "    <tr>\n",
       "      <th>2152</th>\n",
       "      <td>2152</td>\n",
       "      <td>Thigh killa</td>\n",
       "      <td>The thigh killa is a challenging lower-body bo...</td>\n",
       "      <td>Strength</td>\n",
       "      <td>Quadriceps</td>\n",
       "      <td>Body Only</td>\n",
       "      <td>Intermediate</td>\n",
       "      <td>0.0</td>\n",
       "      <td>NaN</td>\n",
       "    </tr>\n",
       "    <tr>\n",
       "      <th>2083</th>\n",
       "      <td>2083</td>\n",
       "      <td>Leverage Deadlift</td>\n",
       "      <td>NaN</td>\n",
       "      <td>Strength</td>\n",
       "      <td>Quadriceps</td>\n",
       "      <td>Machine</td>\n",
       "      <td>Beginner</td>\n",
       "      <td>0.0</td>\n",
       "      <td>NaN</td>\n",
       "    </tr>\n",
       "    <tr>\n",
       "      <th>2029</th>\n",
       "      <td>2029</td>\n",
       "      <td>Barbell Squat To A Box</td>\n",
       "      <td>NaN</td>\n",
       "      <td>Strength</td>\n",
       "      <td>Quadriceps</td>\n",
       "      <td>Other</td>\n",
       "      <td>Beginner</td>\n",
       "      <td>0.0</td>\n",
       "      <td>NaN</td>\n",
       "    </tr>\n",
       "    <tr>\n",
       "      <th>2027</th>\n",
       "      <td>2027</td>\n",
       "      <td>Single-leg knee-tap squat</td>\n",
       "      <td>The single-leg knee-tap squat is a single-leg ...</td>\n",
       "      <td>Strength</td>\n",
       "      <td>Quadriceps</td>\n",
       "      <td>Other</td>\n",
       "      <td>Intermediate</td>\n",
       "      <td>0.0</td>\n",
       "      <td>Average</td>\n",
       "    </tr>\n",
       "    <tr>\n",
       "      <th>2016</th>\n",
       "      <td>2016</td>\n",
       "      <td>Dumbbell walking lunge-</td>\n",
       "      <td>The dumbbell walking lunge is a popular lower-...</td>\n",
       "      <td>Strength</td>\n",
       "      <td>Quadriceps</td>\n",
       "      <td>Other</td>\n",
       "      <td>Intermediate</td>\n",
       "      <td>0.0</td>\n",
       "      <td>Average</td>\n",
       "    </tr>\n",
       "  </tbody>\n",
       "</table>\n",
       "</div>"
      ],
      "text/plain": [
       "      index                      Title  \\\n",
       "2152   2152                Thigh killa   \n",
       "2083   2083          Leverage Deadlift   \n",
       "2029   2029     Barbell Squat To A Box   \n",
       "2027   2027  Single-leg knee-tap squat   \n",
       "2016   2016    Dumbbell walking lunge-   \n",
       "\n",
       "                                                   Desc      Type    BodyPart  \\\n",
       "2152  The thigh killa is a challenging lower-body bo...  Strength  Quadriceps   \n",
       "2083                                                NaN  Strength  Quadriceps   \n",
       "2029                                                NaN  Strength  Quadriceps   \n",
       "2027  The single-leg knee-tap squat is a single-leg ...  Strength  Quadriceps   \n",
       "2016  The dumbbell walking lunge is a popular lower-...  Strength  Quadriceps   \n",
       "\n",
       "      Equipment         Level  Rating RatingDesc  \n",
       "2152  Body Only  Intermediate     0.0        NaN  \n",
       "2083    Machine      Beginner     0.0        NaN  \n",
       "2029      Other      Beginner     0.0        NaN  \n",
       "2027      Other  Intermediate     0.0    Average  \n",
       "2016      Other  Intermediate     0.0    Average  "
      ]
     },
     "execution_count": 27,
     "metadata": {},
     "output_type": "execute_result"
    }
   ],
   "source": [
    "leg_exer_worst= gym_data[gym_data['BodyPart']=='Quadriceps'].sort_values(by='Rating',ascending=True)\n",
    "leg_exer_worst =leg_exer_worst[leg_exer_worst['Type']=='Strength'].head(5)\n",
    "leg_exer_worst"
   ]
  },
  {
   "cell_type": "code",
   "execution_count": 28,
   "id": "23efe668",
   "metadata": {
    "execution": {
     "iopub.execute_input": "2023-02-04T10:13:00.493431Z",
     "iopub.status.busy": "2023-02-04T10:13:00.492818Z",
     "iopub.status.idle": "2023-02-04T10:13:00.805629Z",
     "shell.execute_reply": "2023-02-04T10:13:00.804402Z"
    },
    "papermill": {
     "duration": 0.34086,
     "end_time": "2023-02-04T10:13:00.808549",
     "exception": false,
     "start_time": "2023-02-04T10:13:00.467689",
     "status": "completed"
    },
    "tags": []
   },
   "outputs": [
    {
     "data": {
      "image/png": "[encoded data removed]",
      "text/plain": [
       "<Figure size 936x936 with 1 Axes>"
      ]
     },
     "metadata": {
      "needs_background": "light"
     },
     "output_type": "display_data"
    }
   ],
   "source": [
    "import numpy as np \n",
    "import matplotlib.pyplot as plt \n",
    "     \n",
    "plt.bar(leg_exer_best.Title,leg_exer_best.Rating, label = 'Top 5')\n",
    "plt.bar(leg_exer_worst.Title,leg_exer_worst.Rating, label = 'Bottom 5')\n",
    "plt.xticks(rotation=45, ha='right')\n",
    " \n",
    "plt.xlabel(\"Ranking\")\n",
    "plt.ylabel(\"Rating\")\n",
    "plt.title(\"Top 5 and bottom 5 rated quad exercises\")\n",
    "plt.legend()\n",
    "plt.show()"
   ]
  },
  {
   "cell_type": "code",
   "execution_count": 29,
   "id": "0b17a152",
   "metadata": {
    "execution": {
     "iopub.execute_input": "2023-02-04T10:13:00.856372Z",
     "iopub.status.busy": "2023-02-04T10:13:00.855517Z",
     "iopub.status.idle": "2023-02-04T10:13:01.165065Z",
     "shell.execute_reply": "2023-02-04T10:13:01.163811Z"
    },
    "papermill": {
     "duration": 0.336005,
     "end_time": "2023-02-04T10:13:01.167747",
     "exception": false,
     "start_time": "2023-02-04T10:13:00.831742",
     "status": "completed"
    },
    "tags": []
   },
   "outputs": [
    {
     "data": {
      "image/png": "[encoded data removed]",
      "text/plain": [
       "<Figure size 936x936 with 1 Axes>"
      ]
     },
     "metadata": {
      "needs_background": "light"
     },
     "output_type": "display_data"
    }
   ],
   "source": [
    "glute_exer= gym_data[gym_data['BodyPart']=='Glutes'].sort_values(by='Rating',ascending=False)\n",
    "glute_exer_best =glute_exer[glute_exer['Type']=='Strength'].head(5)\n",
    "\n",
    "glute_exer_worst= gym_data[gym_data['BodyPart']=='Glutes'].sort_values(by='Rating',ascending=True)\n",
    "glute_exer_worst =glute_exer_worst[glute_exer_worst['Type']=='Strength'].head(5)\n",
    "\n",
    "     \n",
    "plt.bar(glute_exer_best.Title,glute_exer_best.Rating,color='g', label = 'Top 5')\n",
    "plt.bar(glute_exer_worst.Title,glute_exer_worst.Rating,color='b', label = 'Bottom 5')\n",
    "plt.xticks(rotation=45, ha='right')\n",
    " \n",
    "plt.xlabel(\"Ranking\")\n",
    "plt.ylabel(\"Rating\")\n",
    "plt.title(\"Top 5 and bottom 5 rated glute exercises\")\n",
    "plt.legend()\n",
    "plt.show()"
   ]
  },
  {
   "cell_type": "markdown",
   "id": "e58fa84b",
   "metadata": {
    "papermill": {
     "duration": 0.022044,
     "end_time": "2023-02-04T10:13:01.212268",
     "exception": false,
     "start_time": "2023-02-04T10:13:01.190224",
     "status": "completed"
    },
    "tags": []
   },
   "source": [
    "# Best Upper body exercises"
   ]
  },
  {
   "cell_type": "markdown",
   "id": "f591e931",
   "metadata": {
    "papermill": {
     "duration": 0.022635,
     "end_time": "2023-02-04T10:13:01.257426",
     "exception": false,
     "start_time": "2023-02-04T10:13:01.234791",
     "status": "completed"
    },
    "tags": []
   },
   "source": [
    "**Since back and chest are the largest muscle groups in the upper body, lets analyse the two.**"
   ]
  },
  {
   "cell_type": "code",
   "execution_count": 30,
   "id": "b6e1506c",
   "metadata": {
    "execution": {
     "iopub.execute_input": "2023-02-04T10:13:01.304625Z",
     "iopub.status.busy": "2023-02-04T10:13:01.303829Z",
     "iopub.status.idle": "2023-02-04T10:13:01.612730Z",
     "shell.execute_reply": "2023-02-04T10:13:01.611484Z"
    },
    "papermill": {
     "duration": 0.335144,
     "end_time": "2023-02-04T10:13:01.615158",
     "exception": false,
     "start_time": "2023-02-04T10:13:01.280014",
     "status": "completed"
    },
    "tags": []
   },
   "outputs": [
    {
     "data": {
      "image/png": "[encoded data removed]",
      "text/plain": [
       "<Figure size 936x936 with 1 Axes>"
      ]
     },
     "metadata": {
      "needs_background": "light"
     },
     "output_type": "display_data"
    }
   ],
   "source": [
    "chest_exer= gym_data[gym_data['BodyPart']=='Chest'].sort_values(by='Rating',ascending=False)\n",
    "chest_exer_best =chest_exer[chest_exer['Type']=='Strength'].head(5)\n",
    "\n",
    "chest_exer_worst= gym_data[gym_data['BodyPart']=='Chest'].sort_values(by='Rating',ascending=True)\n",
    "chest_exer_worst =chest_exer_worst[chest_exer_worst['Type']=='Strength'].head(5)\n",
    "\n",
    "     \n",
    "plt.bar(chest_exer_best.Title,chest_exer_best.Rating,color='r', label = 'Top 5')\n",
    "plt.bar(chest_exer_worst.Title,chest_exer_worst.Rating,color='y', label = 'Bottom 5')\n",
    "plt.xticks(rotation=45, ha='right')\n",
    " \n",
    "plt.xlabel(\"Ranking\")\n",
    "plt.ylabel(\"Rating\")\n",
    "plt.title(\"Top 5 and bottom 5 rated chest exercises\")\n",
    "plt.legend()\n",
    "plt.show()"
   ]
  },
  {
   "cell_type": "code",
   "execution_count": 31,
   "id": "c22a9e84",
   "metadata": {
    "execution": {
     "iopub.execute_input": "2023-02-04T10:13:01.664412Z",
     "iopub.status.busy": "2023-02-04T10:13:01.663985Z",
     "iopub.status.idle": "2023-02-04T10:13:01.975333Z",
     "shell.execute_reply": "2023-02-04T10:13:01.974147Z"
    },
    "papermill": {
     "duration": 0.338594,
     "end_time": "2023-02-04T10:13:01.977854",
     "exception": false,
     "start_time": "2023-02-04T10:13:01.639260",
     "status": "completed"
    },
    "tags": []
   },
   "outputs": [
    {
     "data": {
      "image/png": "[encoded data removed]",
      "text/plain": [
       "<Figure size 936x936 with 1 Axes>"
      ]
     },
     "metadata": {
      "needs_background": "light"
     },
     "output_type": "display_data"
    }
   ],
   "source": [
    "options = ['Lats','Lower Back','Middle Back']\n",
    "back_exer= gym_data[gym_data['BodyPart'].isin(options)].sort_values(by='Rating',ascending=False)\n",
    "back_exer_best =back_exer[back_exer['Type']=='Strength'].head(5)\n",
    "\n",
    "back_exer_worst= gym_data[gym_data['BodyPart'].isin(options)].sort_values(by='Rating',ascending=True)\n",
    "back_exer_worst =back_exer_worst[back_exer_worst['Type']=='Strength'].head(5)\n",
    "\n",
    "     \n",
    "plt.bar(back_exer_best.Title,back_exer_best.Rating,color='b', label = 'Top 5')\n",
    "plt.bar(back_exer_worst.Title,back_exer_worst.Rating,color='m', label = 'Bottom 5')\n",
    "plt.xticks(rotation=45, ha='right')\n",
    " \n",
    "plt.xlabel(\"Ranking\")\n",
    "plt.ylabel(\"Rating\")\n",
    "plt.title(\"Top 5 and bottom 5 rated back exercises\")\n",
    "plt.legend()\n",
    "plt.show()"
   ]
  },
  {
   "cell_type": "markdown",
   "id": "6b1cbc0d",
   "metadata": {
    "papermill": {
     "duration": 0.025073,
     "end_time": "2023-02-04T10:13:02.028890",
     "exception": false,
     "start_time": "2023-02-04T10:13:02.003817",
     "status": "completed"
    },
    "tags": []
   },
   "source": [
    "There are a lot more things one can do with the dataset,I hope to expand and utilise it more soon!"
   ]
  }
 ],
 "metadata": {
  "kernelspec": {
   "display_name": "Python 3",
   "language": "python",
   "name": "python3"
  },
  "language_info": {
   "codemirror_mode": {
    "name": "ipython",
    "version": 3
   },
   "file_extension": ".py",
   "mimetype": "text/x-python",
   "name": "python",
   "nbconvert_exporter": "python",
   "pygments_lexer": "ipython3",
   "version": "3.7.12"
  },
  "papermill": {
   "default_parameters": {},
   "duration": 17.800006,
   "end_time": "2023-02-04T10:13:02.976351",
   "environment_variables": {},
   "exception": null,
   "input_path": "__notebook__.ipynb",
   "output_path": "__notebook__.ipynb",
   "parameters": {},
   "start_time": "2023-02-04T10:12:45.176345",
   "version": "2.3.4"
  }
 },
 "nbformat": 4,
 "nbformat_minor": 5
}
