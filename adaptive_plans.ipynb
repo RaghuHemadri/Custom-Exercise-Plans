{
 "cells": [
  {
   "cell_type": "code",
   "execution_count": 1,
   "metadata": {},
   "outputs": [],
   "source": [
    "import random\n",
    "import pandas as pd\n",
    "import numpy as np\n",
    "from bat_algorithm import BatAlgorithm\n",
    "\n",
    "global data"
   ]
  },
  {
   "cell_type": "code",
   "execution_count": 2,
   "metadata": {},
   "outputs": [],
   "source": [
    "class HeartRateCalculator:\n",
    "    def __init__(self, resting_hr, age):\n",
    "        self.resting_hr = resting_hr\n",
    "        self.age = age\n",
    "        self.hr_max = 220 - 0.7 * age\n",
    "        \n",
    "    def calculate_average_heart_rate(self, met_value):\n",
    "        avg_hr = self.resting_hr + (met_value * 3.5 * self.hr_max) / 100\n",
    "        return avg_hr\n",
    "    \n",
    "    def calculate_max_heart_rate(self):\n",
    "        return self.hr_max\n",
    "    \n",
    "    def calculate_heart_rate(self, met_value, time, k):\n",
    "        heart_rate = self.resting_hr + (self.hr_max - self.resting_hr) * ((met_value * time / 60) ** k)\n",
    "        return heart_rate\n"
   ]
  },
  {
   "cell_type": "code",
   "execution_count": 8,
   "metadata": {},
   "outputs": [],
   "source": [
    "def calculate_hr(avgHR, vecY):\n",
    "    return np.mean(avgHR @ vecY)\n",
    "\n",
    "def calculate_er(k, hr):\n",
    "    return abs(k - hr)\n",
    "\n",
    "def calculate_ev(pi, vecY):\n",
    "    return np.sum(pi @ vecY)\n",
    "\n",
    "def try_swap(y, i, j):\n",
    "    \"\"\"\n",
    "    Try swapping the values at indices i and j in y and return the difference\n",
    "    in the function value before and after the swap.\n",
    "    \"\"\"\n",
    "    swapped_y = y\n",
    "    # Replace the values at i and j with their swapped values\n",
    "    swapped_y[i], swapped_y[j] = swapped_y[j], swapped_y[i]\n",
    "    # Compute the difference in the function value before and after the swap\n",
    "    dif_j = calculate_hr(np.array(data[\"avgHR\"].values), y) - calculate_hr(np.array(data[\"avgHR\"].values), swapped_y)\n",
    "    return dif_j\n",
    "\n",
    "def do_swap(y, i, k):\n",
    "    \"\"\"\n",
    "    Swap the values at indices i and k in y.\n",
    "    \"\"\"\n",
    "    y[i], y[k] = y[k], y[i]\n",
    "\n",
    "def repair(y, hr, K):\n",
    "    \"\"\"\n",
    "    Perform local search on y to minimize the function value.\n",
    "    \"\"\"\n",
    "    t = 0\n",
    "    tl = set()\n",
    "    max_k = 0\n",
    "    d = len(y)\n",
    "    while t < d and hr > K:\n",
    "        i = random.choice([x for x in range(d) if x not in tl])\n",
    "        for j in range(d):\n",
    "            dif_j = try_swap(y, i, j)\n",
    "            if dif_j > max_k:\n",
    "                max_k = dif_j\n",
    "                k = j\n",
    "        if max_k > 0:\n",
    "            do_swap(y, i, k)\n",
    "            hr -= max_k\n",
    "        tl.add(i)\n",
    "        t += 1\n",
    "    return y, hr\n",
    "\n",
    "def solution_to_fitnessplan(solution):\n",
    "    sorted_indices = np.argsort(-solution)\n",
    "    ranks = np.empty_like(sorted_indices)\n",
    "    ranks[sorted_indices] = np.arange(len(solution))\n",
    "    m = 90\n",
    "    n = len(ranks)\n",
    "    N = n*(n+1)/2\n",
    "    y = np.ceil((n - ranks)*m/N)\n",
    "\n",
    "    return y\n"
   ]
  },
  {
   "cell_type": "code",
   "execution_count": 4,
   "metadata": {},
   "outputs": [],
   "source": [
    "data = pd.read_csv('sample_data.csv')"
   ]
  },
  {
   "cell_type": "code",
   "execution_count": 5,
   "metadata": {},
   "outputs": [],
   "source": [
    "hr_calculator = HeartRateCalculator(resting_hr=70, age=25)\n",
    "\n",
    "data[\"avgHR\"] = data[\"METs\"].apply(hr_calculator.calculate_average_heart_rate)\n",
    "meanHR = data[\"avgHR\"].mean()\n",
    "data[\"ci\"] = data[\"avgHR\"] / meanHR\n",
    "data[\"td\"] = [random.randint(2, 6) for _ in range(data[\"ci\"].shape[0])]\n",
    "data[\"pi\"] = data[\"ci\"] * data[\"avgHR\"] / data[\"td\"]"
   ]
  },
  {
   "cell_type": "code",
   "execution_count": 6,
   "metadata": {},
   "outputs": [],
   "source": [
    "def fitness_function(solution):\n",
    "    sorted_indices = np.argsort(-solution)\n",
    "    ranks = np.empty_like(sorted_indices)\n",
    "    ranks[sorted_indices] = np.arange(len(solution))\n",
    "    k = 190\n",
    "    beta = 0.3\n",
    "    m = 90\n",
    "    n = len(ranks)\n",
    "    N = n*(n+1)/2\n",
    "    y = np.ceil((n - ranks)*m/N)\n",
    "    hr = calculate_hr(np.array(data[\"avgHR\"].values), y)\n",
    "    y, hr = repair(y, hr, k)\n",
    "    hr = calculate_hr(np.array(data[\"avgHR\"].values), y)\n",
    "    er = abs(k - hr)\n",
    "    ev = calculate_ev(np.array(data[\"pi\"].values), y)\n",
    "\n",
    "    return beta * er - ev"
   ]
  },
  {
   "cell_type": "code",
   "execution_count": 15,
   "metadata": {},
   "outputs": [
    {
     "name": "stdout",
     "output_type": "stream",
     "text": [
      "Best solution:  [0. 1. 1. 1. 0. 0. 0. 0. 0. 0. 0. 1. 1. 1. 1. 1. 1. 1. 0. 1. 1. 1. 1. 1.############-] 99% (99/100)\n",
      " 1. 1. 1. 0. 1. 1. 1. 1. 1. 1. 1. 0. 1. 0. 1. 0. 0. 1. 1. 1. 0. 1. 0. 1.\n",
      " 0. 0. 0. 0. 1. 0. 1.]\n",
      "Best fitness:  -154.10126178467453\n",
      "Best Fitness Plan:  [1. 2. 2. 2. 1. 1. 1. 1. 1. 1. 1. 2. 2. 2. 2. 2. 2. 3. 1. 3. 3. 4. 4. 4.\n",
      " 3. 3. 3. 1. 3. 3. 3. 3. 3. 3. 3. 1. 3. 1. 3. 1. 1. 2. 3. 3. 2. 2. 2. 2.\n",
      " 2. 2. 1. 1. 2. 1. 4.]\n"
     ]
    }
   ],
   "source": [
    "# Set up Bat Algorithm\n",
    "dimension = len(data[\"avgHR\"].values)\n",
    "lower_bound = 0\n",
    "upper_bound = 1\n",
    "population_size = 20\n",
    "max_generations = 100\n",
    "ba = BatAlgorithm(fitness_function, dimension, lower_bound, upper_bound, population_size, max_generations)\n",
    "\n",
    "# Run the optimization process\n",
    "best_solution, best_fitness = ba.optimize()\n",
    "\n",
    "# Print the results\n",
    "print(\"Best solution: \", best_solution)\n",
    "print(\"Best fitness: \", best_fitness)\n",
    "print(\"Best Fitness Plan: \", solution_to_fitnessplan(best_solution))"
   ]
  }
 ],
 "metadata": {
  "kernelspec": {
   "display_name": "base",
   "language": "python",
   "name": "python3"
  },
  "language_info": {
   "codemirror_mode": {
    "name": "ipython",
    "version": 3
   },
   "file_extension": ".py",
   "mimetype": "text/x-python",
   "name": "python",
   "nbconvert_exporter": "python",
   "pygments_lexer": "ipython3",
   "version": "3.8.8 (default, Apr 13 2021, 12:59:45) \n[Clang 10.0.0 ]"
  },
  "orig_nbformat": 4,
  "vscode": {
   "interpreter": {
    "hash": "cdc2d5445f8831e6e510845367e868ab2e614605f18adbf0716630b2b6b00898"
   }
  }
 },
 "nbformat": 4,
 "nbformat_minor": 2
}
